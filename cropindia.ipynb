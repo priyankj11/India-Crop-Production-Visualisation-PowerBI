{
 "cells": [
  {
   "cell_type": "code",
   "execution_count": 247,
   "id": "b8a10ab8",
   "metadata": {},
   "outputs": [],
   "source": [
    "#importing libraries\n",
    "import pandas as pd\n",
    "import numpy as np\n",
    "import matplotlib.pyplot as plt\n",
    "import seaborn as sns\n",
    "import warnings\n",
    "warnings.filterwarnings('ignore')"
   ]
  },
  {
   "cell_type": "code",
   "execution_count": 248,
   "id": "e7954864",
   "metadata": {},
   "outputs": [],
   "source": [
    "#reading data\n",
    "data=pd.read_csv('crop_production.csv')"
   ]
  },
  {
   "cell_type": "code",
   "execution_count": 249,
   "id": "4a669f09",
   "metadata": {},
   "outputs": [
    {
     "data": {
      "text/html": [
       "<div>\n",
       "<style scoped>\n",
       "    .dataframe tbody tr th:only-of-type {\n",
       "        vertical-align: middle;\n",
       "    }\n",
       "\n",
       "    .dataframe tbody tr th {\n",
       "        vertical-align: top;\n",
       "    }\n",
       "\n",
       "    .dataframe thead th {\n",
       "        text-align: right;\n",
       "    }\n",
       "</style>\n",
       "<table border=\"1\" class=\"dataframe\">\n",
       "  <thead>\n",
       "    <tr style=\"text-align: right;\">\n",
       "      <th></th>\n",
       "      <th>State_Name</th>\n",
       "      <th>District_Name</th>\n",
       "      <th>Crop_Year</th>\n",
       "      <th>Season</th>\n",
       "      <th>Crop</th>\n",
       "      <th>Area</th>\n",
       "      <th>Production</th>\n",
       "    </tr>\n",
       "  </thead>\n",
       "  <tbody>\n",
       "    <tr>\n",
       "      <th>0</th>\n",
       "      <td>Andaman and Nicobar Islands</td>\n",
       "      <td>NICOBARS</td>\n",
       "      <td>2000</td>\n",
       "      <td>Kharif</td>\n",
       "      <td>Arecanut</td>\n",
       "      <td>1254.0</td>\n",
       "      <td>2000.0</td>\n",
       "    </tr>\n",
       "    <tr>\n",
       "      <th>1</th>\n",
       "      <td>Andaman and Nicobar Islands</td>\n",
       "      <td>NICOBARS</td>\n",
       "      <td>2000</td>\n",
       "      <td>Kharif</td>\n",
       "      <td>Other Kharif pulses</td>\n",
       "      <td>2.0</td>\n",
       "      <td>1.0</td>\n",
       "    </tr>\n",
       "    <tr>\n",
       "      <th>2</th>\n",
       "      <td>Andaman and Nicobar Islands</td>\n",
       "      <td>NICOBARS</td>\n",
       "      <td>2000</td>\n",
       "      <td>Kharif</td>\n",
       "      <td>Rice</td>\n",
       "      <td>102.0</td>\n",
       "      <td>321.0</td>\n",
       "    </tr>\n",
       "    <tr>\n",
       "      <th>3</th>\n",
       "      <td>Andaman and Nicobar Islands</td>\n",
       "      <td>NICOBARS</td>\n",
       "      <td>2000</td>\n",
       "      <td>Whole Year</td>\n",
       "      <td>Banana</td>\n",
       "      <td>176.0</td>\n",
       "      <td>641.0</td>\n",
       "    </tr>\n",
       "    <tr>\n",
       "      <th>4</th>\n",
       "      <td>Andaman and Nicobar Islands</td>\n",
       "      <td>NICOBARS</td>\n",
       "      <td>2000</td>\n",
       "      <td>Whole Year</td>\n",
       "      <td>Cashewnut</td>\n",
       "      <td>720.0</td>\n",
       "      <td>165.0</td>\n",
       "    </tr>\n",
       "  </tbody>\n",
       "</table>\n",
       "</div>"
      ],
      "text/plain": [
       "                    State_Name District_Name  Crop_Year       Season  \\\n",
       "0  Andaman and Nicobar Islands      NICOBARS       2000  Kharif        \n",
       "1  Andaman and Nicobar Islands      NICOBARS       2000  Kharif        \n",
       "2  Andaman and Nicobar Islands      NICOBARS       2000  Kharif        \n",
       "3  Andaman and Nicobar Islands      NICOBARS       2000  Whole Year    \n",
       "4  Andaman and Nicobar Islands      NICOBARS       2000  Whole Year    \n",
       "\n",
       "                  Crop    Area  Production  \n",
       "0             Arecanut  1254.0      2000.0  \n",
       "1  Other Kharif pulses     2.0         1.0  \n",
       "2                 Rice   102.0       321.0  \n",
       "3               Banana   176.0       641.0  \n",
       "4            Cashewnut   720.0       165.0  "
      ]
     },
     "execution_count": 249,
     "metadata": {},
     "output_type": "execute_result"
    }
   ],
   "source": [
    "#displaying first five rows of data\n",
    "data.head()"
   ]
  },
  {
   "cell_type": "code",
   "execution_count": 250,
   "id": "fd1bfb73",
   "metadata": {},
   "outputs": [
    {
     "data": {
      "text/html": [
       "<div>\n",
       "<style scoped>\n",
       "    .dataframe tbody tr th:only-of-type {\n",
       "        vertical-align: middle;\n",
       "    }\n",
       "\n",
       "    .dataframe tbody tr th {\n",
       "        vertical-align: top;\n",
       "    }\n",
       "\n",
       "    .dataframe thead th {\n",
       "        text-align: right;\n",
       "    }\n",
       "</style>\n",
       "<table border=\"1\" class=\"dataframe\">\n",
       "  <thead>\n",
       "    <tr style=\"text-align: right;\">\n",
       "      <th></th>\n",
       "      <th>State_Name</th>\n",
       "      <th>District_Name</th>\n",
       "      <th>Crop_Year</th>\n",
       "      <th>Season</th>\n",
       "      <th>Crop</th>\n",
       "      <th>Area</th>\n",
       "      <th>Production</th>\n",
       "    </tr>\n",
       "  </thead>\n",
       "  <tbody>\n",
       "    <tr>\n",
       "      <th>246086</th>\n",
       "      <td>West Bengal</td>\n",
       "      <td>PURULIA</td>\n",
       "      <td>2014</td>\n",
       "      <td>Summer</td>\n",
       "      <td>Rice</td>\n",
       "      <td>306.0</td>\n",
       "      <td>801.0</td>\n",
       "    </tr>\n",
       "    <tr>\n",
       "      <th>246087</th>\n",
       "      <td>West Bengal</td>\n",
       "      <td>PURULIA</td>\n",
       "      <td>2014</td>\n",
       "      <td>Summer</td>\n",
       "      <td>Sesamum</td>\n",
       "      <td>627.0</td>\n",
       "      <td>463.0</td>\n",
       "    </tr>\n",
       "    <tr>\n",
       "      <th>246088</th>\n",
       "      <td>West Bengal</td>\n",
       "      <td>PURULIA</td>\n",
       "      <td>2014</td>\n",
       "      <td>Whole Year</td>\n",
       "      <td>Sugarcane</td>\n",
       "      <td>324.0</td>\n",
       "      <td>16250.0</td>\n",
       "    </tr>\n",
       "    <tr>\n",
       "      <th>246089</th>\n",
       "      <td>West Bengal</td>\n",
       "      <td>PURULIA</td>\n",
       "      <td>2014</td>\n",
       "      <td>Winter</td>\n",
       "      <td>Rice</td>\n",
       "      <td>279151.0</td>\n",
       "      <td>597899.0</td>\n",
       "    </tr>\n",
       "    <tr>\n",
       "      <th>246090</th>\n",
       "      <td>West Bengal</td>\n",
       "      <td>PURULIA</td>\n",
       "      <td>2014</td>\n",
       "      <td>Winter</td>\n",
       "      <td>Sesamum</td>\n",
       "      <td>175.0</td>\n",
       "      <td>88.0</td>\n",
       "    </tr>\n",
       "  </tbody>\n",
       "</table>\n",
       "</div>"
      ],
      "text/plain": [
       "         State_Name District_Name  Crop_Year       Season       Crop  \\\n",
       "246086  West Bengal       PURULIA       2014  Summer            Rice   \n",
       "246087  West Bengal       PURULIA       2014  Summer         Sesamum   \n",
       "246088  West Bengal       PURULIA       2014  Whole Year   Sugarcane   \n",
       "246089  West Bengal       PURULIA       2014  Winter            Rice   \n",
       "246090  West Bengal       PURULIA       2014  Winter         Sesamum   \n",
       "\n",
       "            Area  Production  \n",
       "246086     306.0       801.0  \n",
       "246087     627.0       463.0  \n",
       "246088     324.0     16250.0  \n",
       "246089  279151.0    597899.0  \n",
       "246090     175.0        88.0  "
      ]
     },
     "execution_count": 250,
     "metadata": {},
     "output_type": "execute_result"
    }
   ],
   "source": [
    "#displaying last five rows of data\n",
    "data.tail()"
   ]
  },
  {
   "cell_type": "code",
   "execution_count": 251,
   "id": "7cea5388",
   "metadata": {},
   "outputs": [
    {
     "data": {
      "text/plain": [
       "(246091, 7)"
      ]
     },
     "execution_count": 251,
     "metadata": {},
     "output_type": "execute_result"
    }
   ],
   "source": [
    "#displaying shape of data\n",
    "data.shape"
   ]
  },
  {
   "cell_type": "code",
   "execution_count": 252,
   "id": "efde24ad",
   "metadata": {},
   "outputs": [
    {
     "data": {
      "text/plain": [
       "State_Name        object\n",
       "District_Name     object\n",
       "Crop_Year          int64\n",
       "Season            object\n",
       "Crop              object\n",
       "Area             float64\n",
       "Production       float64\n",
       "dtype: object"
      ]
     },
     "execution_count": 252,
     "metadata": {},
     "output_type": "execute_result"
    }
   ],
   "source": [
    "#printing data types of columns\n",
    "data.dtypes"
   ]
  },
  {
   "cell_type": "code",
   "execution_count": 253,
   "id": "523c5dad",
   "metadata": {},
   "outputs": [
    {
     "name": "stdout",
     "output_type": "stream",
     "text": [
      "There are 246091 rows and 7 columns in data.\n"
     ]
    }
   ],
   "source": [
    "#printing rows and columns in data\n",
    "print('There are {0} rows and {1} columns in data.'.format(data.shape[0],data.shape[1]))"
   ]
  },
  {
   "cell_type": "code",
   "execution_count": 254,
   "id": "4e8ba2a8",
   "metadata": {},
   "outputs": [
    {
     "name": "stdout",
     "output_type": "stream",
     "text": [
      "<class 'pandas.core.frame.DataFrame'>\n",
      "RangeIndex: 246091 entries, 0 to 246090\n",
      "Data columns (total 7 columns):\n",
      " #   Column         Non-Null Count   Dtype  \n",
      "---  ------         --------------   -----  \n",
      " 0   State_Name     246091 non-null  object \n",
      " 1   District_Name  246091 non-null  object \n",
      " 2   Crop_Year      246091 non-null  int64  \n",
      " 3   Season         246091 non-null  object \n",
      " 4   Crop           246091 non-null  object \n",
      " 5   Area           246091 non-null  float64\n",
      " 6   Production     242361 non-null  float64\n",
      "dtypes: float64(2), int64(1), object(4)\n",
      "memory usage: 13.1+ MB\n"
     ]
    }
   ],
   "source": [
    "#displaying information about the data\n",
    "data.info()"
   ]
  },
  {
   "cell_type": "code",
   "execution_count": 255,
   "id": "97faa0c7",
   "metadata": {},
   "outputs": [
    {
     "data": {
      "text/html": [
       "<div>\n",
       "<style scoped>\n",
       "    .dataframe tbody tr th:only-of-type {\n",
       "        vertical-align: middle;\n",
       "    }\n",
       "\n",
       "    .dataframe tbody tr th {\n",
       "        vertical-align: top;\n",
       "    }\n",
       "\n",
       "    .dataframe thead th {\n",
       "        text-align: right;\n",
       "    }\n",
       "</style>\n",
       "<table border=\"1\" class=\"dataframe\">\n",
       "  <thead>\n",
       "    <tr style=\"text-align: right;\">\n",
       "      <th></th>\n",
       "      <th>Crop_Year</th>\n",
       "      <th>Area</th>\n",
       "      <th>Production</th>\n",
       "    </tr>\n",
       "  </thead>\n",
       "  <tbody>\n",
       "    <tr>\n",
       "      <th>count</th>\n",
       "      <td>246091.000000</td>\n",
       "      <td>2.460910e+05</td>\n",
       "      <td>2.423610e+05</td>\n",
       "    </tr>\n",
       "    <tr>\n",
       "      <th>mean</th>\n",
       "      <td>2005.643018</td>\n",
       "      <td>1.200282e+04</td>\n",
       "      <td>5.825034e+05</td>\n",
       "    </tr>\n",
       "    <tr>\n",
       "      <th>std</th>\n",
       "      <td>4.952164</td>\n",
       "      <td>5.052340e+04</td>\n",
       "      <td>1.706581e+07</td>\n",
       "    </tr>\n",
       "    <tr>\n",
       "      <th>min</th>\n",
       "      <td>1997.000000</td>\n",
       "      <td>4.000000e-02</td>\n",
       "      <td>0.000000e+00</td>\n",
       "    </tr>\n",
       "    <tr>\n",
       "      <th>25%</th>\n",
       "      <td>2002.000000</td>\n",
       "      <td>8.000000e+01</td>\n",
       "      <td>8.800000e+01</td>\n",
       "    </tr>\n",
       "    <tr>\n",
       "      <th>50%</th>\n",
       "      <td>2006.000000</td>\n",
       "      <td>5.820000e+02</td>\n",
       "      <td>7.290000e+02</td>\n",
       "    </tr>\n",
       "    <tr>\n",
       "      <th>75%</th>\n",
       "      <td>2010.000000</td>\n",
       "      <td>4.392000e+03</td>\n",
       "      <td>7.023000e+03</td>\n",
       "    </tr>\n",
       "    <tr>\n",
       "      <th>max</th>\n",
       "      <td>2015.000000</td>\n",
       "      <td>8.580100e+06</td>\n",
       "      <td>1.250800e+09</td>\n",
       "    </tr>\n",
       "  </tbody>\n",
       "</table>\n",
       "</div>"
      ],
      "text/plain": [
       "           Crop_Year          Area    Production\n",
       "count  246091.000000  2.460910e+05  2.423610e+05\n",
       "mean     2005.643018  1.200282e+04  5.825034e+05\n",
       "std         4.952164  5.052340e+04  1.706581e+07\n",
       "min      1997.000000  4.000000e-02  0.000000e+00\n",
       "25%      2002.000000  8.000000e+01  8.800000e+01\n",
       "50%      2006.000000  5.820000e+02  7.290000e+02\n",
       "75%      2010.000000  4.392000e+03  7.023000e+03\n",
       "max      2015.000000  8.580100e+06  1.250800e+09"
      ]
     },
     "execution_count": 255,
     "metadata": {},
     "output_type": "execute_result"
    }
   ],
   "source": [
    "#displaying statistical information of data\n",
    "data.describe()"
   ]
  },
  {
   "cell_type": "code",
   "execution_count": 256,
   "id": "e3adeb2f",
   "metadata": {},
   "outputs": [
    {
     "data": {
      "text/plain": [
       "State_Name          0\n",
       "District_Name       0\n",
       "Crop_Year           0\n",
       "Season              0\n",
       "Crop                0\n",
       "Area                0\n",
       "Production       3730\n",
       "dtype: int64"
      ]
     },
     "execution_count": 256,
     "metadata": {},
     "output_type": "execute_result"
    }
   ],
   "source": [
    "#calculating number of null values present in different columns of data\n",
    "data.isnull().sum()"
   ]
  },
  {
   "cell_type": "code",
   "execution_count": 257,
   "id": "3cbdd9fb",
   "metadata": {},
   "outputs": [
    {
     "data": {
      "text/plain": [
       "<AxesSubplot:>"
      ]
     },
     "execution_count": 257,
     "metadata": {},
     "output_type": "execute_result"
    },
    {
     "data": {
      "image/png": "[encoded data removed]",
      "text/plain": [
       "<Figure size 432x288 with 1 Axes>"
      ]
     },
     "metadata": {},
     "output_type": "display_data"
    }
   ],
   "source": [
    "#VISUALING NULL VALUES OF THE COLUMNS USING HEATMAP\n",
    "sns.heatmap(data.isnull(),yticklabels=False,cbar=False,cmap='viridis')"
   ]
  },
  {
   "cell_type": "code",
   "execution_count": 258,
   "id": "9ee9da5d",
   "metadata": {},
   "outputs": [],
   "source": [
    "#dropping rows consisting of null values\n",
    "data.dropna(axis=0,inplace=True)"
   ]
  },
  {
   "cell_type": "code",
   "execution_count": 259,
   "id": "97c6cfe8",
   "metadata": {},
   "outputs": [
    {
     "data": {
      "text/plain": [
       "State_Name       0\n",
       "District_Name    0\n",
       "Crop_Year        0\n",
       "Season           0\n",
       "Crop             0\n",
       "Area             0\n",
       "Production       0\n",
       "dtype: int64"
      ]
     },
     "execution_count": 259,
     "metadata": {},
     "output_type": "execute_result"
    }
   ],
   "source": [
    "#calculating number of null values present in different columns of data\n",
    "data.isnull().sum()"
   ]
  },
  {
   "cell_type": "code",
   "execution_count": 260,
   "id": "cbf0bb4a",
   "metadata": {},
   "outputs": [
    {
     "data": {
      "text/plain": [
       "<AxesSubplot:>"
      ]
     },
     "execution_count": 260,
     "metadata": {},
     "output_type": "execute_result"
    },
    {
     "data": {
      "image/png": "[encoded data removed]",
      "text/plain": [
       "<Figure size 432x288 with 1 Axes>"
      ]
     },
     "metadata": {},
     "output_type": "display_data"
    }
   ],
   "source": [
    "#VISUALING NULL VALUES OF THE COLUMNS USING HEATMAP\n",
    "sns.heatmap(data.isnull(),yticklabels=False,cbar=False,cmap='viridis')"
   ]
  },
  {
   "cell_type": "code",
   "execution_count": 261,
   "id": "5187014c",
   "metadata": {},
   "outputs": [
    {
     "data": {
      "text/plain": [
       "(242361, 7)"
      ]
     },
     "execution_count": 261,
     "metadata": {},
     "output_type": "execute_result"
    }
   ],
   "source": [
    "#displaying dimensions of data after dropping null value rows\n",
    "data.shape"
   ]
  },
  {
   "cell_type": "code",
   "execution_count": 262,
   "id": "21b06b0b",
   "metadata": {},
   "outputs": [],
   "source": [
    "#renaming of column names\n",
    "data.rename(columns={'State_Name':'State','District_Name':'District','Crop_Year':'Year'},inplace=True)"
   ]
  },
  {
   "cell_type": "code",
   "execution_count": 263,
   "id": "e0decf2b",
   "metadata": {},
   "outputs": [
    {
     "data": {
      "text/html": [
       "<div>\n",
       "<style scoped>\n",
       "    .dataframe tbody tr th:only-of-type {\n",
       "        vertical-align: middle;\n",
       "    }\n",
       "\n",
       "    .dataframe tbody tr th {\n",
       "        vertical-align: top;\n",
       "    }\n",
       "\n",
       "    .dataframe thead th {\n",
       "        text-align: right;\n",
       "    }\n",
       "</style>\n",
       "<table border=\"1\" class=\"dataframe\">\n",
       "  <thead>\n",
       "    <tr style=\"text-align: right;\">\n",
       "      <th></th>\n",
       "      <th>State</th>\n",
       "      <th>District</th>\n",
       "      <th>Year</th>\n",
       "      <th>Season</th>\n",
       "      <th>Crop</th>\n",
       "      <th>Area</th>\n",
       "      <th>Production</th>\n",
       "    </tr>\n",
       "  </thead>\n",
       "  <tbody>\n",
       "    <tr>\n",
       "      <th>0</th>\n",
       "      <td>Andaman and Nicobar Islands</td>\n",
       "      <td>NICOBARS</td>\n",
       "      <td>2000</td>\n",
       "      <td>Kharif</td>\n",
       "      <td>Arecanut</td>\n",
       "      <td>1254.0</td>\n",
       "      <td>2000.0</td>\n",
       "    </tr>\n",
       "    <tr>\n",
       "      <th>1</th>\n",
       "      <td>Andaman and Nicobar Islands</td>\n",
       "      <td>NICOBARS</td>\n",
       "      <td>2000</td>\n",
       "      <td>Kharif</td>\n",
       "      <td>Other Kharif pulses</td>\n",
       "      <td>2.0</td>\n",
       "      <td>1.0</td>\n",
       "    </tr>\n",
       "    <tr>\n",
       "      <th>2</th>\n",
       "      <td>Andaman and Nicobar Islands</td>\n",
       "      <td>NICOBARS</td>\n",
       "      <td>2000</td>\n",
       "      <td>Kharif</td>\n",
       "      <td>Rice</td>\n",
       "      <td>102.0</td>\n",
       "      <td>321.0</td>\n",
       "    </tr>\n",
       "    <tr>\n",
       "      <th>3</th>\n",
       "      <td>Andaman and Nicobar Islands</td>\n",
       "      <td>NICOBARS</td>\n",
       "      <td>2000</td>\n",
       "      <td>Whole Year</td>\n",
       "      <td>Banana</td>\n",
       "      <td>176.0</td>\n",
       "      <td>641.0</td>\n",
       "    </tr>\n",
       "    <tr>\n",
       "      <th>4</th>\n",
       "      <td>Andaman and Nicobar Islands</td>\n",
       "      <td>NICOBARS</td>\n",
       "      <td>2000</td>\n",
       "      <td>Whole Year</td>\n",
       "      <td>Cashewnut</td>\n",
       "      <td>720.0</td>\n",
       "      <td>165.0</td>\n",
       "    </tr>\n",
       "  </tbody>\n",
       "</table>\n",
       "</div>"
      ],
      "text/plain": [
       "                         State  District  Year       Season  \\\n",
       "0  Andaman and Nicobar Islands  NICOBARS  2000  Kharif        \n",
       "1  Andaman and Nicobar Islands  NICOBARS  2000  Kharif        \n",
       "2  Andaman and Nicobar Islands  NICOBARS  2000  Kharif        \n",
       "3  Andaman and Nicobar Islands  NICOBARS  2000  Whole Year    \n",
       "4  Andaman and Nicobar Islands  NICOBARS  2000  Whole Year    \n",
       "\n",
       "                  Crop    Area  Production  \n",
       "0             Arecanut  1254.0      2000.0  \n",
       "1  Other Kharif pulses     2.0         1.0  \n",
       "2                 Rice   102.0       321.0  \n",
       "3               Banana   176.0       641.0  \n",
       "4            Cashewnut   720.0       165.0  "
      ]
     },
     "execution_count": 263,
     "metadata": {},
     "output_type": "execute_result"
    }
   ],
   "source": [
    "#displaying first five rows of data\n",
    "data.head()"
   ]
  },
  {
   "cell_type": "code",
   "execution_count": 264,
   "id": "500ffdef",
   "metadata": {},
   "outputs": [],
   "source": [
    "#calculating first quartile,second quartile and iqr\n",
    "q1=data['Area'].quantile(0.25)\n",
    "q3=data['Area'].quantile(0.75)\n",
    "IQR=q3-q1"
   ]
  },
  {
   "cell_type": "code",
   "execution_count": 265,
   "id": "7130adf0",
   "metadata": {},
   "outputs": [],
   "source": [
    "#calculating lower bound and upper bound \n",
    "lower_limit=q1-1.5*IQR\n",
    "upper_limit=q3+1.5*IQR"
   ]
  },
  {
   "cell_type": "code",
   "execution_count": 266,
   "id": "f457c8ca",
   "metadata": {},
   "outputs": [
    {
     "data": {
      "text/plain": [
       "87.0"
      ]
     },
     "execution_count": 266,
     "metadata": {},
     "output_type": "execute_result"
    }
   ],
   "source": [
    "#printing first quartile\n",
    "q1"
   ]
  },
  {
   "cell_type": "code",
   "execution_count": 267,
   "id": "abf9f8fa",
   "metadata": {},
   "outputs": [
    {
     "data": {
      "text/plain": [
       "4545.0"
      ]
     },
     "execution_count": 267,
     "metadata": {},
     "output_type": "execute_result"
    }
   ],
   "source": [
    "#printing third quartile\n",
    "q3"
   ]
  },
  {
   "cell_type": "code",
   "execution_count": 268,
   "id": "417b5cb7",
   "metadata": {},
   "outputs": [
    {
     "data": {
      "text/plain": [
       "4458.0"
      ]
     },
     "execution_count": 268,
     "metadata": {},
     "output_type": "execute_result"
    }
   ],
   "source": [
    "#printing inter-quartile range\n",
    "IQR"
   ]
  },
  {
   "cell_type": "code",
   "execution_count": 269,
   "id": "0ab99c6e",
   "metadata": {},
   "outputs": [
    {
     "data": {
      "text/plain": [
       "-6600.0"
      ]
     },
     "execution_count": 269,
     "metadata": {},
     "output_type": "execute_result"
    }
   ],
   "source": [
    "#printing lower bound \n",
    "lower_limit"
   ]
  },
  {
   "cell_type": "code",
   "execution_count": 270,
   "id": "94952324",
   "metadata": {},
   "outputs": [
    {
     "data": {
      "text/plain": [
       "11232.0"
      ]
     },
     "execution_count": 270,
     "metadata": {},
     "output_type": "execute_result"
    }
   ],
   "source": [
    "#printing upper bound\n",
    "upper_limit"
   ]
  },
  {
   "cell_type": "code",
   "execution_count": 271,
   "id": "67b7b082",
   "metadata": {},
   "outputs": [],
   "source": [
    "#removing outliers from the data\n",
    "data=data[(data['Area']>lower_limit)&(data['Area']<upper_limit)]"
   ]
  },
  {
   "cell_type": "code",
   "execution_count": 272,
   "id": "326e8d11",
   "metadata": {},
   "outputs": [
    {
     "data": {
      "text/plain": [
       "(202430, 7)"
      ]
     },
     "execution_count": 272,
     "metadata": {},
     "output_type": "execute_result"
    }
   ],
   "source": [
    "#printing dimensions of data after removing outliers\n",
    "data.shape"
   ]
  },
  {
   "cell_type": "code",
   "execution_count": 273,
   "id": "d596e043",
   "metadata": {},
   "outputs": [
    {
     "data": {
      "text/plain": [
       "array(['Andaman and Nicobar Islands', 'Andhra Pradesh',\n",
       "       'Arunachal Pradesh', 'Assam', 'Bihar', 'Chandigarh',\n",
       "       'Chhattisgarh', 'Dadra and Nagar Haveli', 'Goa', 'Gujarat',\n",
       "       'Haryana', 'Himachal Pradesh', 'Jammu and Kashmir ', 'Jharkhand',\n",
       "       'Karnataka', 'Kerala', 'Madhya Pradesh', 'Maharashtra', 'Manipur',\n",
       "       'Meghalaya', 'Mizoram', 'Nagaland', 'Odisha', 'Puducherry',\n",
       "       'Punjab', 'Rajasthan', 'Sikkim', 'Tamil Nadu', 'Telangana ',\n",
       "       'Tripura', 'Uttar Pradesh', 'Uttarakhand', 'West Bengal'],\n",
       "      dtype=object)"
      ]
     },
     "execution_count": 273,
     "metadata": {},
     "output_type": "execute_result"
    }
   ],
   "source": [
    "#displaying different states\n",
    "data['State'].unique()"
   ]
  },
  {
   "cell_type": "code",
   "execution_count": 274,
   "id": "7ee1911d",
   "metadata": {},
   "outputs": [
    {
     "data": {
      "text/plain": [
       "33"
      ]
     },
     "execution_count": 274,
     "metadata": {},
     "output_type": "execute_result"
    }
   ],
   "source": [
    "#printing total number of states\n",
    "data['State'].nunique()"
   ]
  },
  {
   "cell_type": "code",
   "execution_count": 275,
   "id": "6b603a08",
   "metadata": {},
   "outputs": [
    {
     "data": {
      "text/plain": [
       "array(['NICOBARS', 'NORTH AND MIDDLE ANDAMAN', 'SOUTH ANDAMANS',\n",
       "       'ANANTAPUR', 'CHITTOOR', 'EAST GODAVARI', 'GUNTUR', 'KADAPA',\n",
       "       'KRISHNA', 'KURNOOL', 'PRAKASAM', 'SPSR NELLORE', 'SRIKAKULAM',\n",
       "       'VISAKHAPATANAM', 'VIZIANAGARAM', 'WEST GODAVARI', 'ANJAW',\n",
       "       'CHANGLANG', 'DIBANG VALLEY', 'EAST KAMENG', 'EAST SIANG',\n",
       "       'KURUNG KUMEY', 'LOHIT', 'LONGDING', 'LOWER DIBANG VALLEY',\n",
       "       'LOWER SUBANSIRI', 'NAMSAI', 'PAPUM PARE', 'TAWANG', 'TIRAP',\n",
       "       'UPPER SIANG', 'UPPER SUBANSIRI', 'WEST KAMENG', 'WEST SIANG',\n",
       "       'BAKSA', 'BARPETA', 'BONGAIGAON', 'CACHAR', 'CHIRANG', 'DARRANG',\n",
       "       'DHEMAJI', 'DHUBRI', 'DIBRUGARH', 'DIMA HASAO', 'GOALPARA',\n",
       "       'GOLAGHAT', 'HAILAKANDI', 'JORHAT', 'KAMRUP', 'KAMRUP METRO',\n",
       "       'KARBI ANGLONG', 'KARIMGANJ', 'KOKRAJHAR', 'LAKHIMPUR', 'MARIGAON',\n",
       "       'NAGAON', 'NALBARI', 'SIVASAGAR', 'SONITPUR', 'TINSUKIA',\n",
       "       'UDALGURI', 'ARARIA', 'ARWAL', 'AURANGABAD', 'BANKA', 'BEGUSARAI',\n",
       "       'BHAGALPUR', 'BHOJPUR', 'BUXAR', 'DARBHANGA', 'GAYA', 'GOPALGANJ',\n",
       "       'JAMUI', 'JEHANABAD', 'KAIMUR (BHABUA)', 'KATIHAR', 'KHAGARIA',\n",
       "       'KISHANGANJ', 'LAKHISARAI', 'MADHEPURA', 'MADHUBANI', 'MUNGER',\n",
       "       'MUZAFFARPUR', 'NALANDA', 'NAWADA', 'PASHCHIM CHAMPARAN', 'PATNA',\n",
       "       'PURBI CHAMPARAN', 'PURNIA', 'ROHTAS', 'SAHARSA', 'SAMASTIPUR',\n",
       "       'SARAN', 'SHEIKHPURA', 'SHEOHAR', 'SITAMARHI', 'SIWAN', 'SUPAUL',\n",
       "       'VAISHALI', 'CHANDIGARH', 'BALOD', 'BALODA BAZAR', 'BALRAMPUR',\n",
       "       'BASTAR', 'BEMETARA', 'BIJAPUR', 'BILASPUR', 'DANTEWADA',\n",
       "       'DHAMTARI', 'DURG', 'GARIYABAND', 'JANJGIR-CHAMPA', 'JASHPUR',\n",
       "       'KABIRDHAM', 'KANKER', 'KONDAGAON', 'KORBA', 'KOREA', 'MAHASAMUND',\n",
       "       'MUNGELI', 'NARAYANPUR', 'RAIGARH', 'RAIPUR', 'RAJNANDGAON',\n",
       "       'SUKMA', 'SURAJPUR', 'SURGUJA', 'DADRA AND NAGAR HAVELI',\n",
       "       'NORTH GOA', 'SOUTH GOA', 'AHMADABAD', 'AMRELI', 'ANAND',\n",
       "       'BANAS KANTHA', 'BHARUCH', 'BHAVNAGAR', 'DANG', 'DOHAD',\n",
       "       'GANDHINAGAR', 'JAMNAGAR', 'JUNAGADH', 'KACHCHH', 'KHEDA',\n",
       "       'MAHESANA', 'NARMADA', 'NAVSARI', 'PANCH MAHALS', 'PATAN',\n",
       "       'PORBANDAR', 'RAJKOT', 'SABAR KANTHA', 'SURAT', 'SURENDRANAGAR',\n",
       "       'TAPI', 'VADODARA', 'VALSAD', 'AMBALA', 'BHIWANI', 'FARIDABAD',\n",
       "       'FATEHABAD', 'GURGAON', 'HISAR', 'JHAJJAR', 'JIND', 'KAITHAL',\n",
       "       'KARNAL', 'KURUKSHETRA', 'MAHENDRAGARH', 'MEWAT', 'PALWAL',\n",
       "       'PANCHKULA', 'PANIPAT', 'REWARI', 'ROHTAK', 'SIRSA', 'SONIPAT',\n",
       "       'YAMUNANAGAR', 'CHAMBA', 'HAMIRPUR', 'KANGRA', 'KINNAUR', 'KULLU',\n",
       "       'LAHUL AND SPITI', 'MANDI', 'SHIMLA', 'SIRMAUR', 'SOLAN', 'UNA',\n",
       "       'ANANTNAG', 'BADGAM', 'BANDIPORA', 'BARAMULLA', 'DODA',\n",
       "       'GANDERBAL', 'JAMMU', 'KARGIL', 'KATHUA', 'KISHTWAR', 'KULGAM',\n",
       "       'KUPWARA', 'LEH LADAKH', 'POONCH', 'PULWAMA', 'RAJAURI', 'RAMBAN',\n",
       "       'REASI', 'SAMBA', 'SHOPIAN', 'SRINAGAR', 'UDHAMPUR', 'BOKARO',\n",
       "       'CHATRA', 'DEOGHAR', 'DHANBAD', 'DUMKA', 'EAST SINGHBUM', 'GARHWA',\n",
       "       'GIRIDIH', 'GODDA', 'GUMLA', 'HAZARIBAGH', 'JAMTARA', 'KHUNTI',\n",
       "       'KODERMA', 'LATEHAR', 'LOHARDAGA', 'PAKUR', 'PALAMU', 'RAMGARH',\n",
       "       'RANCHI', 'SAHEBGANJ', 'SARAIKELA KHARSAWAN', 'SIMDEGA',\n",
       "       'WEST SINGHBHUM', 'BAGALKOT', 'BANGALORE RURAL', 'BELGAUM',\n",
       "       'BELLARY', 'BENGALURU URBAN', 'BIDAR', 'CHAMARAJANAGAR',\n",
       "       'CHIKBALLAPUR', 'CHIKMAGALUR', 'CHITRADURGA', 'DAKSHIN KANNAD',\n",
       "       'DAVANGERE', 'DHARWAD', 'GADAG', 'GULBARGA', 'HASSAN', 'HAVERI',\n",
       "       'KODAGU', 'KOLAR', 'KOPPAL', 'MANDYA', 'MYSORE', 'RAICHUR',\n",
       "       'RAMANAGARA', 'SHIMOGA', 'TUMKUR', 'UDUPI', 'UTTAR KANNAD',\n",
       "       'YADGIR', 'ALAPPUZHA', 'ERNAKULAM', 'IDUKKI', 'KANNUR',\n",
       "       'KASARAGOD', 'KOLLAM', 'KOTTAYAM', 'KOZHIKODE', 'MALAPPURAM',\n",
       "       'PALAKKAD', 'PATHANAMTHITTA', 'THIRUVANANTHAPURAM', 'THRISSUR',\n",
       "       'WAYANAD', 'AGAR MALWA', 'ALIRAJPUR', 'ANUPPUR', 'ASHOKNAGAR',\n",
       "       'BALAGHAT', 'BARWANI', 'BETUL', 'BHIND', 'BHOPAL', 'BURHANPUR',\n",
       "       'CHHATARPUR', 'CHHINDWARA', 'DAMOH', 'DATIA', 'DEWAS', 'DHAR',\n",
       "       'DINDORI', 'GUNA', 'GWALIOR', 'HARDA', 'HOSHANGABAD', 'INDORE',\n",
       "       'JABALPUR', 'JHABUA', 'KATNI', 'KHANDWA', 'KHARGONE', 'MANDLA',\n",
       "       'MANDSAUR', 'MORENA', 'NARSINGHPUR', 'NEEMUCH', 'PANNA', 'RAISEN',\n",
       "       'RAJGARH', 'RATLAM', 'REWA', 'SAGAR', 'SATNA', 'SEHORE', 'SEONI',\n",
       "       'SHAHDOL', 'SHAJAPUR', 'SHEOPUR', 'SHIVPURI', 'SIDHI', 'SINGRAULI',\n",
       "       'TIKAMGARH', 'UJJAIN', 'UMARIA', 'VIDISHA', 'AHMEDNAGAR', 'AKOLA',\n",
       "       'AMRAVATI', 'BEED', 'BHANDARA', 'BULDHANA', 'CHANDRAPUR', 'DHULE',\n",
       "       'GADCHIROLI', 'GONDIA', 'HINGOLI', 'JALGAON', 'JALNA', 'KOLHAPUR',\n",
       "       'LATUR', 'MUMBAI', 'NAGPUR', 'NANDED', 'NANDURBAR', 'NASHIK',\n",
       "       'OSMANABAD', 'PALGHAR', 'PARBHANI', 'PUNE', 'RAIGAD', 'RATNAGIRI',\n",
       "       'SANGLI', 'SATARA', 'SINDHUDURG', 'SOLAPUR', 'THANE', 'WARDHA',\n",
       "       'WASHIM', 'YAVATMAL', 'BISHNUPUR', 'CHANDEL', 'CHURACHANDPUR',\n",
       "       'IMPHAL EAST', 'IMPHAL WEST', 'SENAPATI', 'TAMENGLONG', 'THOUBAL',\n",
       "       'UKHRUL', 'EAST GARO HILLS', 'EAST JAINTIA HILLS',\n",
       "       'EAST KHASI HILLS', 'NORTH GARO HILLS', 'RI BHOI',\n",
       "       'SOUTH GARO HILLS', 'SOUTH WEST GARO HILLS',\n",
       "       'SOUTH WEST KHASI HILLS', 'WEST GARO HILLS', 'WEST JAINTIA HILLS',\n",
       "       'WEST KHASI HILLS', 'AIZAWL', 'CHAMPHAI', 'KOLASIB', 'LAWNGTLAI',\n",
       "       'LUNGLEI', 'MAMIT', 'SAIHA', 'SERCHHIP', 'DIMAPUR', 'KIPHIRE',\n",
       "       'KOHIMA', 'LONGLENG', 'MOKOKCHUNG', 'MON', 'PEREN', 'PHEK',\n",
       "       'TUENSANG', 'WOKHA', 'ZUNHEBOTO', 'ANUGUL', 'BALANGIR',\n",
       "       'BALESHWAR', 'BARGARH', 'BHADRAK', 'BOUDH', 'CUTTACK', 'DEOGARH',\n",
       "       'DHENKANAL', 'GAJAPATI', 'GANJAM', 'JAGATSINGHAPUR', 'JAJAPUR',\n",
       "       'JHARSUGUDA', 'KALAHANDI', 'KANDHAMAL', 'KENDRAPARA', 'KENDUJHAR',\n",
       "       'KHORDHA', 'KORAPUT', 'MALKANGIRI', 'MAYURBHANJ', 'NABARANGPUR',\n",
       "       'NAYAGARH', 'NUAPADA', 'PURI', 'RAYAGADA', 'SAMBALPUR', 'SONEPUR',\n",
       "       'SUNDARGARH', 'KARAIKAL', 'MAHE', 'PONDICHERRY', 'YANAM',\n",
       "       'AMRITSAR', 'BARNALA', 'BATHINDA', 'FARIDKOT', 'FATEHGARH SAHIB',\n",
       "       'FAZILKA', 'FIROZEPUR', 'GURDASPUR', 'HOSHIARPUR', 'JALANDHAR',\n",
       "       'KAPURTHALA', 'LUDHIANA', 'MANSA', 'MOGA', 'MUKTSAR', 'NAWANSHAHR',\n",
       "       'PATHANKOT', 'PATIALA', 'RUPNAGAR', 'S.A.S NAGAR', 'SANGRUR',\n",
       "       'TARN TARAN', 'AJMER', 'ALWAR', 'BANSWARA', 'BARAN', 'BARMER',\n",
       "       'BHARATPUR', 'BHILWARA', 'BIKANER', 'BUNDI', 'CHITTORGARH',\n",
       "       'CHURU', 'DAUSA', 'DHOLPUR', 'DUNGARPUR', 'GANGANAGAR',\n",
       "       'HANUMANGARH', 'JAIPUR', 'JAISALMER', 'JALORE', 'JHALAWAR',\n",
       "       'JHUNJHUNU', 'JODHPUR', 'KARAULI', 'KOTA', 'NAGAUR', 'PALI',\n",
       "       'PRATAPGARH', 'RAJSAMAND', 'SAWAI MADHOPUR', 'SIKAR', 'SIROHI',\n",
       "       'TONK', 'UDAIPUR', 'EAST DISTRICT', 'NORTH DISTRICT',\n",
       "       'SOUTH DISTRICT', 'WEST DISTRICT', 'ARIYALUR', 'COIMBATORE',\n",
       "       'CUDDALORE', 'DHARMAPURI', 'DINDIGUL', 'ERODE', 'KANCHIPURAM',\n",
       "       'KANNIYAKUMARI', 'KARUR', 'KRISHNAGIRI', 'MADURAI', 'NAGAPATTINAM',\n",
       "       'NAMAKKAL', 'PERAMBALUR', 'PUDUKKOTTAI', 'RAMANATHAPURAM', 'SALEM',\n",
       "       'SIVAGANGA', 'THANJAVUR', 'THE NILGIRIS', 'THENI', 'THIRUVALLUR',\n",
       "       'THIRUVARUR', 'TIRUCHIRAPPALLI', 'TIRUNELVELI', 'TIRUPPUR',\n",
       "       'TIRUVANNAMALAI', 'TUTICORIN', 'VELLORE', 'VILLUPURAM',\n",
       "       'VIRUDHUNAGAR', 'ADILABAD', 'HYDERABAD', 'KARIMNAGAR', 'KHAMMAM',\n",
       "       'MAHBUBNAGAR', 'MEDAK', 'NALGONDA', 'NIZAMABAD', 'RANGAREDDI',\n",
       "       'WARANGAL', 'DHALAI', 'GOMATI', 'KHOWAI', 'NORTH TRIPURA',\n",
       "       'SEPAHIJALA', 'SOUTH TRIPURA', 'UNAKOTI', 'WEST TRIPURA', 'AGRA',\n",
       "       'ALIGARH', 'ALLAHABAD', 'AMBEDKAR NAGAR', 'AMETHI', 'AMROHA',\n",
       "       'AURAIYA', 'AZAMGARH', 'BAGHPAT', 'BAHRAICH', 'BALLIA', 'BANDA',\n",
       "       'BARABANKI', 'BAREILLY', 'BASTI', 'BIJNOR', 'BUDAUN',\n",
       "       'BULANDSHAHR', 'CHANDAULI', 'CHITRAKOOT', 'DEORIA', 'ETAH',\n",
       "       'ETAWAH', 'FAIZABAD', 'FARRUKHABAD', 'FATEHPUR', 'FIROZABAD',\n",
       "       'GAUTAM BUDDHA NAGAR', 'GHAZIABAD', 'GHAZIPUR', 'GONDA',\n",
       "       'GORAKHPUR', 'HAPUR', 'HARDOI', 'HATHRAS', 'JALAUN', 'JAUNPUR',\n",
       "       'JHANSI', 'KANNAUJ', 'KANPUR DEHAT', 'KANPUR NAGAR', 'KASGANJ',\n",
       "       'KAUSHAMBI', 'KHERI', 'KUSHI NAGAR', 'LALITPUR', 'LUCKNOW',\n",
       "       'MAHARAJGANJ', 'MAHOBA', 'MAINPURI', 'MATHURA', 'MAU', 'MEERUT',\n",
       "       'MIRZAPUR', 'MORADABAD', 'MUZAFFARNAGAR', 'PILIBHIT', 'RAE BARELI',\n",
       "       'RAMPUR', 'SAHARANPUR', 'SAMBHAL', 'SANT KABEER NAGAR',\n",
       "       'SANT RAVIDAS NAGAR', 'SHAHJAHANPUR', 'SHAMLI', 'SHRAVASTI',\n",
       "       'SIDDHARTH NAGAR', 'SITAPUR', 'SONBHADRA', 'SULTANPUR', 'UNNAO',\n",
       "       'VARANASI', 'ALMORA', 'BAGESHWAR', 'CHAMOLI', 'CHAMPAWAT',\n",
       "       'DEHRADUN', 'HARIDWAR', 'NAINITAL', 'PAURI GARHWAL', 'PITHORAGARH',\n",
       "       'RUDRA PRAYAG', 'TEHRI GARHWAL', 'UDAM SINGH NAGAR', 'UTTAR KASHI',\n",
       "       '24 PARAGANAS NORTH', '24 PARAGANAS SOUTH', 'BANKURA', 'BARDHAMAN',\n",
       "       'BIRBHUM', 'COOCHBEHAR', 'DARJEELING', 'DINAJPUR DAKSHIN',\n",
       "       'DINAJPUR UTTAR', 'HOOGHLY', 'HOWRAH', 'JALPAIGURI', 'MALDAH',\n",
       "       'MEDINIPUR EAST', 'MEDINIPUR WEST', 'MURSHIDABAD', 'NADIA',\n",
       "       'PURULIA'], dtype=object)"
      ]
     },
     "execution_count": 275,
     "metadata": {},
     "output_type": "execute_result"
    }
   ],
   "source": [
    "#displaying different district present in data\n",
    "data['District'].unique()"
   ]
  },
  {
   "cell_type": "code",
   "execution_count": 276,
   "id": "03fc3769",
   "metadata": {},
   "outputs": [
    {
     "data": {
      "text/plain": [
       "646"
      ]
     },
     "execution_count": 276,
     "metadata": {},
     "output_type": "execute_result"
    }
   ],
   "source": [
    "#displaying total number of districts \n",
    "data['District'].nunique()"
   ]
  },
  {
   "cell_type": "code",
   "execution_count": 277,
   "id": "282f287b",
   "metadata": {},
   "outputs": [
    {
     "data": {
      "text/plain": [
       "array(['Kharif     ', 'Whole Year ', 'Autumn     ', 'Rabi       ',\n",
       "       'Summer     ', 'Winter     '], dtype=object)"
      ]
     },
     "execution_count": 277,
     "metadata": {},
     "output_type": "execute_result"
    }
   ],
   "source": [
    "#printing different season \n",
    "data['Season'].unique()"
   ]
  },
  {
   "cell_type": "code",
   "execution_count": 278,
   "id": "26b43f9d",
   "metadata": {},
   "outputs": [],
   "source": [
    "#removing white spaces from season \n",
    "data['State']=data['State'].apply(lambda x:x.strip())\n",
    "data['Season']=data['Season'].apply(lambda x:x.strip())\n",
    "data['District']=data['District'].apply(lambda x:x.strip().lower().capitalize())"
   ]
  },
  {
   "cell_type": "code",
   "execution_count": 279,
   "id": "1054f304",
   "metadata": {},
   "outputs": [
    {
     "data": {
      "text/html": [
       "<div>\n",
       "<style scoped>\n",
       "    .dataframe tbody tr th:only-of-type {\n",
       "        vertical-align: middle;\n",
       "    }\n",
       "\n",
       "    .dataframe tbody tr th {\n",
       "        vertical-align: top;\n",
       "    }\n",
       "\n",
       "    .dataframe thead th {\n",
       "        text-align: right;\n",
       "    }\n",
       "</style>\n",
       "<table border=\"1\" class=\"dataframe\">\n",
       "  <thead>\n",
       "    <tr style=\"text-align: right;\">\n",
       "      <th></th>\n",
       "      <th>State</th>\n",
       "      <th>District</th>\n",
       "      <th>Year</th>\n",
       "      <th>Season</th>\n",
       "      <th>Crop</th>\n",
       "      <th>Area</th>\n",
       "      <th>Production</th>\n",
       "    </tr>\n",
       "  </thead>\n",
       "  <tbody>\n",
       "    <tr>\n",
       "      <th>0</th>\n",
       "      <td>Andaman and Nicobar Islands</td>\n",
       "      <td>Nicobars</td>\n",
       "      <td>2000</td>\n",
       "      <td>Kharif</td>\n",
       "      <td>Arecanut</td>\n",
       "      <td>1254.0</td>\n",
       "      <td>2000.0</td>\n",
       "    </tr>\n",
       "    <tr>\n",
       "      <th>1</th>\n",
       "      <td>Andaman and Nicobar Islands</td>\n",
       "      <td>Nicobars</td>\n",
       "      <td>2000</td>\n",
       "      <td>Kharif</td>\n",
       "      <td>Other Kharif pulses</td>\n",
       "      <td>2.0</td>\n",
       "      <td>1.0</td>\n",
       "    </tr>\n",
       "    <tr>\n",
       "      <th>2</th>\n",
       "      <td>Andaman and Nicobar Islands</td>\n",
       "      <td>Nicobars</td>\n",
       "      <td>2000</td>\n",
       "      <td>Kharif</td>\n",
       "      <td>Rice</td>\n",
       "      <td>102.0</td>\n",
       "      <td>321.0</td>\n",
       "    </tr>\n",
       "    <tr>\n",
       "      <th>3</th>\n",
       "      <td>Andaman and Nicobar Islands</td>\n",
       "      <td>Nicobars</td>\n",
       "      <td>2000</td>\n",
       "      <td>Whole Year</td>\n",
       "      <td>Banana</td>\n",
       "      <td>176.0</td>\n",
       "      <td>641.0</td>\n",
       "    </tr>\n",
       "    <tr>\n",
       "      <th>4</th>\n",
       "      <td>Andaman and Nicobar Islands</td>\n",
       "      <td>Nicobars</td>\n",
       "      <td>2000</td>\n",
       "      <td>Whole Year</td>\n",
       "      <td>Cashewnut</td>\n",
       "      <td>720.0</td>\n",
       "      <td>165.0</td>\n",
       "    </tr>\n",
       "  </tbody>\n",
       "</table>\n",
       "</div>"
      ],
      "text/plain": [
       "                         State  District  Year      Season  \\\n",
       "0  Andaman and Nicobar Islands  Nicobars  2000      Kharif   \n",
       "1  Andaman and Nicobar Islands  Nicobars  2000      Kharif   \n",
       "2  Andaman and Nicobar Islands  Nicobars  2000      Kharif   \n",
       "3  Andaman and Nicobar Islands  Nicobars  2000  Whole Year   \n",
       "4  Andaman and Nicobar Islands  Nicobars  2000  Whole Year   \n",
       "\n",
       "                  Crop    Area  Production  \n",
       "0             Arecanut  1254.0      2000.0  \n",
       "1  Other Kharif pulses     2.0         1.0  \n",
       "2                 Rice   102.0       321.0  \n",
       "3               Banana   176.0       641.0  \n",
       "4            Cashewnut   720.0       165.0  "
      ]
     },
     "execution_count": 279,
     "metadata": {},
     "output_type": "execute_result"
    }
   ],
   "source": [
    "#displaying first five rows of data\n",
    "data.head()"
   ]
  },
  {
   "cell_type": "code",
   "execution_count": 280,
   "id": "b0c1e0f8",
   "metadata": {},
   "outputs": [
    {
     "data": {
      "text/html": [
       "<div>\n",
       "<style scoped>\n",
       "    .dataframe tbody tr th:only-of-type {\n",
       "        vertical-align: middle;\n",
       "    }\n",
       "\n",
       "    .dataframe tbody tr th {\n",
       "        vertical-align: top;\n",
       "    }\n",
       "\n",
       "    .dataframe thead th {\n",
       "        text-align: right;\n",
       "    }\n",
       "</style>\n",
       "<table border=\"1\" class=\"dataframe\">\n",
       "  <thead>\n",
       "    <tr style=\"text-align: right;\">\n",
       "      <th></th>\n",
       "      <th>State</th>\n",
       "      <th>District</th>\n",
       "      <th>Year</th>\n",
       "      <th>Season</th>\n",
       "      <th>Crop</th>\n",
       "      <th>Area</th>\n",
       "      <th>Production</th>\n",
       "    </tr>\n",
       "  </thead>\n",
       "  <tbody>\n",
       "    <tr>\n",
       "      <th>397</th>\n",
       "      <td>Andhra Pradesh</td>\n",
       "      <td>Anantapur</td>\n",
       "      <td>2002</td>\n",
       "      <td>Kharif</td>\n",
       "      <td>Soyabean</td>\n",
       "      <td>51.0</td>\n",
       "      <td>0.0</td>\n",
       "    </tr>\n",
       "    <tr>\n",
       "      <th>424</th>\n",
       "      <td>Andhra Pradesh</td>\n",
       "      <td>Anantapur</td>\n",
       "      <td>2002</td>\n",
       "      <td>Whole Year</td>\n",
       "      <td>Cucumber</td>\n",
       "      <td>18.0</td>\n",
       "      <td>0.0</td>\n",
       "    </tr>\n",
       "    <tr>\n",
       "      <th>428</th>\n",
       "      <td>Andhra Pradesh</td>\n",
       "      <td>Anantapur</td>\n",
       "      <td>2002</td>\n",
       "      <td>Whole Year</td>\n",
       "      <td>other fibres</td>\n",
       "      <td>132.0</td>\n",
       "      <td>0.0</td>\n",
       "    </tr>\n",
       "    <tr>\n",
       "      <th>430</th>\n",
       "      <td>Andhra Pradesh</td>\n",
       "      <td>Anantapur</td>\n",
       "      <td>2002</td>\n",
       "      <td>Whole Year</td>\n",
       "      <td>Other Vegetables</td>\n",
       "      <td>1767.0</td>\n",
       "      <td>0.0</td>\n",
       "    </tr>\n",
       "    <tr>\n",
       "      <th>481</th>\n",
       "      <td>Andhra Pradesh</td>\n",
       "      <td>Anantapur</td>\n",
       "      <td>2003</td>\n",
       "      <td>Whole Year</td>\n",
       "      <td>Cucumber</td>\n",
       "      <td>51.0</td>\n",
       "      <td>0.0</td>\n",
       "    </tr>\n",
       "    <tr>\n",
       "      <th>...</th>\n",
       "      <td>...</td>\n",
       "      <td>...</td>\n",
       "      <td>...</td>\n",
       "      <td>...</td>\n",
       "      <td>...</td>\n",
       "      <td>...</td>\n",
       "      <td>...</td>\n",
       "    </tr>\n",
       "    <tr>\n",
       "      <th>221362</th>\n",
       "      <td>Uttar Pradesh</td>\n",
       "      <td>Mainpuri</td>\n",
       "      <td>2003</td>\n",
       "      <td>Rabi</td>\n",
       "      <td>Linseed</td>\n",
       "      <td>1.0</td>\n",
       "      <td>0.0</td>\n",
       "    </tr>\n",
       "    <tr>\n",
       "      <th>222672</th>\n",
       "      <td>Uttar Pradesh</td>\n",
       "      <td>Meerut</td>\n",
       "      <td>2002</td>\n",
       "      <td>Kharif</td>\n",
       "      <td>Moong(Green Gram)</td>\n",
       "      <td>1.0</td>\n",
       "      <td>0.0</td>\n",
       "    </tr>\n",
       "    <tr>\n",
       "      <th>224493</th>\n",
       "      <td>Uttar Pradesh</td>\n",
       "      <td>Pilibhit</td>\n",
       "      <td>2002</td>\n",
       "      <td>Kharif</td>\n",
       "      <td>Moong(Green Gram)</td>\n",
       "      <td>1.0</td>\n",
       "      <td>0.0</td>\n",
       "    </tr>\n",
       "    <tr>\n",
       "      <th>227377</th>\n",
       "      <td>Uttar Pradesh</td>\n",
       "      <td>Sant ravidas nagar</td>\n",
       "      <td>2003</td>\n",
       "      <td>Rabi</td>\n",
       "      <td>Linseed</td>\n",
       "      <td>1.0</td>\n",
       "      <td>0.0</td>\n",
       "    </tr>\n",
       "    <tr>\n",
       "      <th>231266</th>\n",
       "      <td>Uttar Pradesh</td>\n",
       "      <td>Varanasi</td>\n",
       "      <td>2003</td>\n",
       "      <td>Kharif</td>\n",
       "      <td>Moth</td>\n",
       "      <td>1.0</td>\n",
       "      <td>0.0</td>\n",
       "    </tr>\n",
       "  </tbody>\n",
       "</table>\n",
       "<p>3515 rows × 7 columns</p>\n",
       "</div>"
      ],
      "text/plain": [
       "                 State            District  Year      Season  \\\n",
       "397     Andhra Pradesh           Anantapur  2002      Kharif   \n",
       "424     Andhra Pradesh           Anantapur  2002  Whole Year   \n",
       "428     Andhra Pradesh           Anantapur  2002  Whole Year   \n",
       "430     Andhra Pradesh           Anantapur  2002  Whole Year   \n",
       "481     Andhra Pradesh           Anantapur  2003  Whole Year   \n",
       "...                ...                 ...   ...         ...   \n",
       "221362   Uttar Pradesh            Mainpuri  2003        Rabi   \n",
       "222672   Uttar Pradesh              Meerut  2002      Kharif   \n",
       "224493   Uttar Pradesh            Pilibhit  2002      Kharif   \n",
       "227377   Uttar Pradesh  Sant ravidas nagar  2003        Rabi   \n",
       "231266   Uttar Pradesh            Varanasi  2003      Kharif   \n",
       "\n",
       "                     Crop    Area  Production  \n",
       "397              Soyabean    51.0         0.0  \n",
       "424              Cucumber    18.0         0.0  \n",
       "428          other fibres   132.0         0.0  \n",
       "430      Other Vegetables  1767.0         0.0  \n",
       "481              Cucumber    51.0         0.0  \n",
       "...                   ...     ...         ...  \n",
       "221362            Linseed     1.0         0.0  \n",
       "222672  Moong(Green Gram)     1.0         0.0  \n",
       "224493  Moong(Green Gram)     1.0         0.0  \n",
       "227377            Linseed     1.0         0.0  \n",
       "231266               Moth     1.0         0.0  \n",
       "\n",
       "[3515 rows x 7 columns]"
      ]
     },
     "execution_count": 280,
     "metadata": {},
     "output_type": "execute_result"
    }
   ],
   "source": [
    "#displaying data where production is zero\n",
    "data[data['Production']==0]"
   ]
  },
  {
   "cell_type": "code",
   "execution_count": 281,
   "id": "302c6da1",
   "metadata": {},
   "outputs": [
    {
     "data": {
      "text/plain": [
       "3515"
      ]
     },
     "execution_count": 281,
     "metadata": {},
     "output_type": "execute_result"
    }
   ],
   "source": [
    "#total number of rows have zero production\n",
    "len(data[data['Production']==0])"
   ]
  },
  {
   "cell_type": "code",
   "execution_count": 282,
   "id": "72c53a38",
   "metadata": {},
   "outputs": [],
   "source": [
    "#getting index number of rows where production is zero\n",
    "ind=data[data['Production']==0].index"
   ]
  },
  {
   "cell_type": "code",
   "execution_count": 283,
   "id": "f7c73fcb",
   "metadata": {},
   "outputs": [],
   "source": [
    "#dropping rows from data where production is zero\n",
    "data.drop(index=ind,axis=0,inplace=True)"
   ]
  },
  {
   "cell_type": "code",
   "execution_count": 284,
   "id": "9aff9c3a",
   "metadata": {},
   "outputs": [
    {
     "data": {
      "text/plain": [
       "(198915, 7)"
      ]
     },
     "execution_count": 284,
     "metadata": {},
     "output_type": "execute_result"
    }
   ],
   "source": [
    "#displaying dimensions of data after dropping rows\n",
    "data.shape"
   ]
  },
  {
   "cell_type": "code",
   "execution_count": 285,
   "id": "4cf8ef4a",
   "metadata": {},
   "outputs": [
    {
     "data": {
      "text/plain": [
       "array([2000, 2001, 2002, 2003, 2004, 2005, 2006, 2010, 1997, 1998, 1999,\n",
       "       2007, 2008, 2009, 2011, 2012, 2013, 2014, 2015], dtype=int64)"
      ]
     },
     "execution_count": 285,
     "metadata": {},
     "output_type": "execute_result"
    }
   ],
   "source": [
    "#displaying different years value\n",
    "data['Year'].unique()"
   ]
  },
  {
   "cell_type": "code",
   "execution_count": 286,
   "id": "7ae9ab21",
   "metadata": {},
   "outputs": [],
   "source": [
    "#taking data from 2000 onwards\n",
    "data=data[data['Year']>=2000]"
   ]
  },
  {
   "cell_type": "code",
   "execution_count": 287,
   "id": "f2ee884c",
   "metadata": {},
   "outputs": [
    {
     "data": {
      "text/plain": [
       "(173159, 7)"
      ]
     },
     "execution_count": 287,
     "metadata": {},
     "output_type": "execute_result"
    }
   ],
   "source": [
    "#displaying dimensions of data after filtering out data\n",
    "data.shape"
   ]
  },
  {
   "cell_type": "code",
   "execution_count": 288,
   "id": "887c8845",
   "metadata": {},
   "outputs": [
    {
     "data": {
      "text/plain": [
       "Kharif        64729\n",
       "Rabi          47461\n",
       "Whole Year    42776\n",
       "Summer        11640\n",
       "Winter         3289\n",
       "Autumn         3264\n",
       "Name: Season, dtype: int64"
      ]
     },
     "execution_count": 288,
     "metadata": {},
     "output_type": "execute_result"
    }
   ],
   "source": [
    "#differnt season value count\n",
    "data['Season'].value_counts()"
   ]
  },
  {
   "cell_type": "code",
   "execution_count": 289,
   "id": "290bf9a5",
   "metadata": {},
   "outputs": [],
   "source": [
    "#summer and autumn are synonyms of kharif and witner is synonym of rabi\n",
    "data['Season']=data['Season'].apply(lambda x:x.replace('Autumn','Kharif'))\n",
    "data['Season']=data['Season'].apply(lambda x:x.replace('Winter','Rabi'))\n",
    "data['Season']=data['Season'].apply(lambda x:x.replace('Summer','Kharif'))"
   ]
  },
  {
   "cell_type": "code",
   "execution_count": 290,
   "id": "dbd9e246",
   "metadata": {},
   "outputs": [
    {
     "data": {
      "text/plain": [
       "Kharif        79633\n",
       "Rabi          50750\n",
       "Whole Year    42776\n",
       "Name: Season, dtype: int64"
      ]
     },
     "execution_count": 290,
     "metadata": {},
     "output_type": "execute_result"
    }
   ],
   "source": [
    "#printing value counts of season\n",
    "data['Season'].value_counts()"
   ]
  },
  {
   "cell_type": "code",
   "execution_count": 291,
   "id": "db69f1e2",
   "metadata": {},
   "outputs": [],
   "source": [
    "#calculating production per area\n",
    "data['Prod_Per_Area']=data['Production']/data['Area']"
   ]
  },
  {
   "cell_type": "code",
   "execution_count": 292,
   "id": "01eb4972",
   "metadata": {},
   "outputs": [
    {
     "data": {
      "text/html": [
       "<div>\n",
       "<style scoped>\n",
       "    .dataframe tbody tr th:only-of-type {\n",
       "        vertical-align: middle;\n",
       "    }\n",
       "\n",
       "    .dataframe tbody tr th {\n",
       "        vertical-align: top;\n",
       "    }\n",
       "\n",
       "    .dataframe thead th {\n",
       "        text-align: right;\n",
       "    }\n",
       "</style>\n",
       "<table border=\"1\" class=\"dataframe\">\n",
       "  <thead>\n",
       "    <tr style=\"text-align: right;\">\n",
       "      <th></th>\n",
       "      <th>State</th>\n",
       "      <th>District</th>\n",
       "      <th>Year</th>\n",
       "      <th>Season</th>\n",
       "      <th>Crop</th>\n",
       "      <th>Area</th>\n",
       "      <th>Production</th>\n",
       "      <th>Prod_Per_Area</th>\n",
       "    </tr>\n",
       "  </thead>\n",
       "  <tbody>\n",
       "    <tr>\n",
       "      <th>0</th>\n",
       "      <td>Andaman and Nicobar Islands</td>\n",
       "      <td>Nicobars</td>\n",
       "      <td>2000</td>\n",
       "      <td>Kharif</td>\n",
       "      <td>Arecanut</td>\n",
       "      <td>1254.0</td>\n",
       "      <td>2000.0</td>\n",
       "      <td>1.594896</td>\n",
       "    </tr>\n",
       "    <tr>\n",
       "      <th>1</th>\n",
       "      <td>Andaman and Nicobar Islands</td>\n",
       "      <td>Nicobars</td>\n",
       "      <td>2000</td>\n",
       "      <td>Kharif</td>\n",
       "      <td>Other Kharif pulses</td>\n",
       "      <td>2.0</td>\n",
       "      <td>1.0</td>\n",
       "      <td>0.500000</td>\n",
       "    </tr>\n",
       "    <tr>\n",
       "      <th>2</th>\n",
       "      <td>Andaman and Nicobar Islands</td>\n",
       "      <td>Nicobars</td>\n",
       "      <td>2000</td>\n",
       "      <td>Kharif</td>\n",
       "      <td>Rice</td>\n",
       "      <td>102.0</td>\n",
       "      <td>321.0</td>\n",
       "      <td>3.147059</td>\n",
       "    </tr>\n",
       "    <tr>\n",
       "      <th>3</th>\n",
       "      <td>Andaman and Nicobar Islands</td>\n",
       "      <td>Nicobars</td>\n",
       "      <td>2000</td>\n",
       "      <td>Whole Year</td>\n",
       "      <td>Banana</td>\n",
       "      <td>176.0</td>\n",
       "      <td>641.0</td>\n",
       "      <td>3.642045</td>\n",
       "    </tr>\n",
       "    <tr>\n",
       "      <th>4</th>\n",
       "      <td>Andaman and Nicobar Islands</td>\n",
       "      <td>Nicobars</td>\n",
       "      <td>2000</td>\n",
       "      <td>Whole Year</td>\n",
       "      <td>Cashewnut</td>\n",
       "      <td>720.0</td>\n",
       "      <td>165.0</td>\n",
       "      <td>0.229167</td>\n",
       "    </tr>\n",
       "    <tr>\n",
       "      <th>...</th>\n",
       "      <td>...</td>\n",
       "      <td>...</td>\n",
       "      <td>...</td>\n",
       "      <td>...</td>\n",
       "      <td>...</td>\n",
       "      <td>...</td>\n",
       "      <td>...</td>\n",
       "      <td>...</td>\n",
       "    </tr>\n",
       "    <tr>\n",
       "      <th>246085</th>\n",
       "      <td>West Bengal</td>\n",
       "      <td>Purulia</td>\n",
       "      <td>2014</td>\n",
       "      <td>Kharif</td>\n",
       "      <td>Maize</td>\n",
       "      <td>325.0</td>\n",
       "      <td>2039.0</td>\n",
       "      <td>6.273846</td>\n",
       "    </tr>\n",
       "    <tr>\n",
       "      <th>246086</th>\n",
       "      <td>West Bengal</td>\n",
       "      <td>Purulia</td>\n",
       "      <td>2014</td>\n",
       "      <td>Kharif</td>\n",
       "      <td>Rice</td>\n",
       "      <td>306.0</td>\n",
       "      <td>801.0</td>\n",
       "      <td>2.617647</td>\n",
       "    </tr>\n",
       "    <tr>\n",
       "      <th>246087</th>\n",
       "      <td>West Bengal</td>\n",
       "      <td>Purulia</td>\n",
       "      <td>2014</td>\n",
       "      <td>Kharif</td>\n",
       "      <td>Sesamum</td>\n",
       "      <td>627.0</td>\n",
       "      <td>463.0</td>\n",
       "      <td>0.738437</td>\n",
       "    </tr>\n",
       "    <tr>\n",
       "      <th>246088</th>\n",
       "      <td>West Bengal</td>\n",
       "      <td>Purulia</td>\n",
       "      <td>2014</td>\n",
       "      <td>Whole Year</td>\n",
       "      <td>Sugarcane</td>\n",
       "      <td>324.0</td>\n",
       "      <td>16250.0</td>\n",
       "      <td>50.154321</td>\n",
       "    </tr>\n",
       "    <tr>\n",
       "      <th>246090</th>\n",
       "      <td>West Bengal</td>\n",
       "      <td>Purulia</td>\n",
       "      <td>2014</td>\n",
       "      <td>Rabi</td>\n",
       "      <td>Sesamum</td>\n",
       "      <td>175.0</td>\n",
       "      <td>88.0</td>\n",
       "      <td>0.502857</td>\n",
       "    </tr>\n",
       "  </tbody>\n",
       "</table>\n",
       "<p>173159 rows × 8 columns</p>\n",
       "</div>"
      ],
      "text/plain": [
       "                              State  District  Year      Season  \\\n",
       "0       Andaman and Nicobar Islands  Nicobars  2000      Kharif   \n",
       "1       Andaman and Nicobar Islands  Nicobars  2000      Kharif   \n",
       "2       Andaman and Nicobar Islands  Nicobars  2000      Kharif   \n",
       "3       Andaman and Nicobar Islands  Nicobars  2000  Whole Year   \n",
       "4       Andaman and Nicobar Islands  Nicobars  2000  Whole Year   \n",
       "...                             ...       ...   ...         ...   \n",
       "246085                  West Bengal   Purulia  2014      Kharif   \n",
       "246086                  West Bengal   Purulia  2014      Kharif   \n",
       "246087                  West Bengal   Purulia  2014      Kharif   \n",
       "246088                  West Bengal   Purulia  2014  Whole Year   \n",
       "246090                  West Bengal   Purulia  2014        Rabi   \n",
       "\n",
       "                       Crop    Area  Production  Prod_Per_Area  \n",
       "0                  Arecanut  1254.0      2000.0       1.594896  \n",
       "1       Other Kharif pulses     2.0         1.0       0.500000  \n",
       "2                      Rice   102.0       321.0       3.147059  \n",
       "3                    Banana   176.0       641.0       3.642045  \n",
       "4                 Cashewnut   720.0       165.0       0.229167  \n",
       "...                     ...     ...         ...            ...  \n",
       "246085                Maize   325.0      2039.0       6.273846  \n",
       "246086                 Rice   306.0       801.0       2.617647  \n",
       "246087              Sesamum   627.0       463.0       0.738437  \n",
       "246088            Sugarcane   324.0     16250.0      50.154321  \n",
       "246090              Sesamum   175.0        88.0       0.502857  \n",
       "\n",
       "[173159 rows x 8 columns]"
      ]
     },
     "execution_count": 292,
     "metadata": {},
     "output_type": "execute_result"
    }
   ],
   "source": [
    "data"
   ]
  },
  {
   "cell_type": "code",
   "execution_count": 293,
   "id": "646369a2",
   "metadata": {},
   "outputs": [],
   "source": [
    "#replacing sub category of cotton and jute to main category\n",
    "data['Crop']=data['Crop'].apply(lambda x:x.replace('Kapas','Cotton(lint)').replace('Cotton(lint)','Cotton'))\n",
    "data['Crop']=data['Crop'].apply(lambda x:x.replace('Jute & mesta','Jute'))\n",
    "data['Crop']=data['Crop'].apply(lambda x:x.replace('Mesta','Jute'))"
   ]
  },
  {
   "cell_type": "code",
   "execution_count": 294,
   "id": "96823b7b",
   "metadata": {},
   "outputs": [],
   "source": [
    "#replacing variety of spices to spices\n",
    "data['Crop']=data['Crop'].apply(lambda x:x.replace('Black pepper','Spices'))\n",
    "data['Crop']=data['Crop'].apply(lambda x:x.replace('Cardamom','Spices'))\n",
    "data['Crop']=data['Crop'].apply(lambda x:x.replace('Perilla','Spices'))"
   ]
  },
  {
   "cell_type": "code",
   "execution_count": 295,
   "id": "e2472bee",
   "metadata": {},
   "outputs": [],
   "source": [
    "#replacing variety of pulses to category pulses\n",
    "data['Crop']=data['Crop'].apply(lambda x:x.replace('Other Kharif pulses','Pulses'))\n",
    "data['Crop']=data['Crop'].apply(lambda x:x.replace('Other  Rabi pulses','Pulses'))\n",
    "data['Crop']=data['Crop'].apply(lambda x:x.replace('Peas & beans (Pulses)','Pulses'))\n",
    "data['Crop']=data['Crop'].apply(lambda x:x.replace('Pulses total','Pulses'))\n",
    "data['Crop']=data['Crop'].apply(lambda x:x.replace('other misc. pulses','Pulses'))\n",
    "data['Crop']=data['Crop'].apply(lambda x:x.replace('Moong(Green Gram)','Pulses'))\n",
    "data['Crop']=data['Crop'].apply(lambda x:x.replace('Urad','Pulses'))\n",
    "data['Crop']=data['Crop'].apply(lambda x:x.replace('Arhar/Tur','Pulses'))\n",
    "data['Crop']=data['Crop'].apply(lambda x:x.replace('Bean','Pulses'))\n",
    "data['Crop']=data['Crop'].apply(lambda x:x.replace('Ricebean (nagadal)','Pulses'))\n",
    "data['Crop']=data['Crop'].apply(lambda x:x.replace('Lentil','Pulses'))\n",
    "data['Crop']=data['Crop'].apply(lambda x:x.replace('Masoor','Pulses'))\n",
    "data['Crop']=data['Crop'].apply(lambda x:x.replace('Khesari','Pulses'))\n",
    "data['Crop']=data['Crop'].apply(lambda x:x.replace('Horse-gram','Pulses'))\n",
    "data['Crop']=data['Crop'].apply(lambda x:x.replace('Rajmash Kholar','Pulses'))"
   ]
  },
  {
   "cell_type": "code",
   "execution_count": 296,
   "id": "e3b30203",
   "metadata": {},
   "outputs": [],
   "source": [
    "#renaming the wrong values of crop arecanut\n",
    "data['Crop']=data['Crop'].apply(lambda x:x.replace('Atcanut (Raw)','Arecanut'))\n",
    "data['Crop']=data['Crop'].apply(lambda x:x.replace('Arcanut (Processed)','Arecanut'))\n",
    "data['Crop']=data['Crop'].apply(lambda x:x.replace('Arecanut','Arecanut'))"
   ]
  },
  {
   "cell_type": "code",
   "execution_count": 297,
   "id": "1d1e9d22",
   "metadata": {},
   "outputs": [],
   "source": [
    "#replacing the variety of fruits to category fruits\n",
    "data['Crop']=data['Crop'].apply(lambda x:x.replace('Papaya','Fruits'))\n",
    "data['Crop']=data['Crop'].apply(lambda x:x.replace('Mango','Fruits'))\n",
    "data['Crop']=data['Crop'].apply(lambda x:x.replace('Orange','Fruits'))\n",
    "data['Crop']=data['Crop'].apply(lambda x:x.replace('Other Fresh Fruits','Fruits'))\n",
    "data['Crop']=data['Crop'].apply(lambda x:x.replace('Pineapple','Fruits'))\n",
    "data['Crop']=data['Crop'].apply(lambda x:x.replace('Citrus Fruit','Fruits'))\n",
    "data['Crop']=data['Crop'].apply(lambda x:x.replace('Pome Fruit','Fruits'))\n",
    "data['Crop']=data['Crop'].apply(lambda x:x.replace('Pome Granet','Fruits'))\n",
    "data['Crop']=data['Crop'].apply(lambda x:x.replace('Grapes','Fruits'))\n",
    "data['Crop']=data['Crop'].apply(lambda x:x.replace('Jack Fruit','Fruits'))\n",
    "data['Crop']=data['Crop'].apply(lambda x:x.replace('Sapota','Fruits'))\n",
    "data['Crop']=data['Crop'].apply(lambda x:x.replace('Lemon','Fruits'))"
   ]
  },
  {
   "cell_type": "code",
   "execution_count": 298,
   "id": "e36a5c05",
   "metadata": {},
   "outputs": [],
   "source": [
    "#renaming crops to most widely used name of crop\n",
    "data['Crop']=data['Crop'].apply(lambda x:x.replace('Turnip','Onion'))\n",
    "data['Crop']=data['Crop'].apply(lambda x:x.replace('Cashewnut Raw','Cashewnut'))\n",
    "data['Crop']=data['Crop'].apply(lambda x:x.replace('Cashewnut Processed','Cashewnut'))"
   ]
  },
  {
   "cell_type": "code",
   "execution_count": 299,
   "id": "fd923fda",
   "metadata": {},
   "outputs": [],
   "source": [
    "#replacing different variety of grams to main category gram\n",
    "data['Crop']=data['Crop'].apply(lambda x:x.replace('black gram','Gram'))\n",
    "data['Crop']=data['Crop'].apply(lambda x:x.replace('Moth','Gram'))\n",
    "data['Crop']=data['Crop'].apply(lambda x:x.replace('Blackgram','Gram'))"
   ]
  },
  {
   "cell_type": "code",
   "execution_count": 300,
   "id": "aa761988",
   "metadata": {},
   "outputs": [],
   "source": [
    "#replacing different oilseeds crop to main category oilseeds\n",
    "data['Crop']=data['Crop'].apply(lambda x:x.replace('Oilseeds total' ,'Oilseeds'))\n",
    "data['Crop']=data['Crop'].apply(lambda x:x.replace('Niger seed' ,'other oilseeds'))"
   ]
  },
  {
   "cell_type": "code",
   "execution_count": 301,
   "id": "0a790dc2",
   "metadata": {},
   "outputs": [],
   "source": [
    "#replacing different variety of millets to main category bajra\n",
    "data['Crop']=data['Crop'].apply(lambda x:x.replace('Other Cereals & Millets' ,'Bajra'))\n",
    "data['Crop']=data['Crop'].apply(lambda x:x.replace('Samai' ,'Bajra'))\n",
    "data['Crop']=data['Crop'].apply(lambda x:x.replace('Small millets' ,'Bajra'))\n",
    "data['Crop']=data['Crop'].apply(lambda x:x.replace('Ragi','Bajra'))\n",
    "data['Crop']=data['Crop'].apply(lambda x:x.replace('Varagu','Bajra'))\n",
    "data['Crop']=data['Crop'].apply(lambda x:x.replace('Jobster','Bajra'))"
   ]
  },
  {
   "cell_type": "code",
   "execution_count": 302,
   "id": "6f386960",
   "metadata": {},
   "outputs": [],
   "source": [
    "#replacing different vegetables to main category vegetables\n",
    "data['Crop']=data['Crop'].apply(lambda x:x.replace('Coriander' ,'Vegetables'))\n",
    "data['Crop']=data['Crop'].apply(lambda x:x.replace('pulsess & Mutter(Vegetable)' ,'Vegetables'))\n",
    "data['Crop']=data['Crop'].apply(lambda x:x.replace('Bhindi' ,'Vegetables'))\n",
    "data['Crop']=data['Crop'].apply(lambda x:x.replace('Tomato','Vegetables'))\n",
    "data['Crop']=data['Crop'].apply(lambda x:x.replace('Cowpea(Lobia)','Vegetables'))\n",
    "data['Crop']=data['Crop'].apply(lambda x:x.replace('Cabbage','Vegetables'))\n",
    "data['Crop']=data['Crop'].apply(lambda x:x.replace('Carrot','Vegetables'))\n",
    "data['Crop']=data['Crop'].apply(lambda x:x.replace('Drum Stick','Vegetables'))\n",
    "data['Crop']=data['Crop'].apply(lambda x:x.replace('Redish','Vegetables'))\n",
    "data['Crop']=data['Crop'].apply(lambda x:x.replace('Cauliflower','Vegetables'))\n",
    "data['Crop']=data['Crop'].apply(lambda x:x.replace('Colocosia','Vegetables'))\n",
    "data['Crop']=data['Crop'].apply(lambda x:x.replace('Brinjal','Vegetables'))\n",
    "data['Crop']=data['Crop'].apply(lambda x:x.replace('Bottle Gourd','Vegetables'))\n",
    "data['Crop']=data['Crop'].apply(lambda x:x.replace('Bitter Gourd','Vegetables'))"
   ]
  },
  {
   "cell_type": "code",
   "execution_count": 303,
   "id": "e93ba910",
   "metadata": {},
   "outputs": [],
   "source": [
    "#erplacing sub-category with there main-category\n",
    "data['Crop']=data['Crop'].apply(lambda x:x.replace('Niger seed','Sesamum'))\n",
    "data['Crop']=data['Crop'].apply(lambda x:x.replace('Korra','Total Foodgrain'))\n",
    "data['Crop']=data['Crop'].apply(lambda x:x.replace('Paddy','Rice'))"
   ]
  },
  {
   "cell_type": "code",
   "execution_count": 304,
   "id": "4a0ae16e",
   "metadata": {},
   "outputs": [],
   "source": [
    "#replacing sub-category to main category\n",
    "data['Crop']=data['Crop'].apply(lambda x:x.replace('Other Vegetables','Vegetables'))\n",
    "data['Crop']=data['Crop'].apply(lambda x:x.replace('Dry Ginger','Ginger'))\n",
    "data['Crop']=data['Crop'].apply(lambda x:x.replace('other oilseeds','Oilseeds'))\n",
    "data['Crop']=data['Crop'].apply(lambda x:x.replace('Rapeseed &Mustard','Rapseed & Mustard'))\n",
    "data['Crop']=data['Crop'].apply(lambda x:x.replace('Other Spices','Spices'))\n",
    "data['Crop']=data['Crop'].apply(lambda x:x.replace('Dry ginger','Ginger'))\n",
    "data['Crop']=data['Crop'].apply(lambda x:x.replace('Sannhamp','Sunnhemp'))\n",
    "data['Crop']=data['Crop'].apply(lambda x:x.replace('Total foodgrain','Foodgrain'))"
   ]
  },
  {
   "cell_type": "code",
   "execution_count": 305,
   "id": "4ea6bdbe",
   "metadata": {},
   "outputs": [
    {
     "data": {
      "text/plain": [
       "array(['Arecanut', 'Pulses', 'Rice', 'Banana', 'Cashewnut', 'Ginger',\n",
       "       'Sugarcane', 'Sweet potato', 'Tapioca', 'Spices', 'Dry chillies',\n",
       "       'Oilseeds', 'Turmeric', 'Maize', 'Coconut ', 'Groundnut',\n",
       "       'Sunflower', 'Bajra', 'Castor seed', 'Gram', 'Jowar',\n",
       "       'Total Foodgrain', 'Onion', 'Sesamum', 'Linseed', 'Safflower',\n",
       "       'Wheat', 'Vegetables', 'Potato', 'Tobacco', 'Cotton',\n",
       "       'Pulsess & Mutter(Vegetable)', 'Fruits', 'Soyabean', 'Jute',\n",
       "       'Rapseed & Mustard', 'Garlic', 'Barley', 'Sunnhemp', 'Guar seed',\n",
       "       'Rubber', 'Tea', 'Coffee', 'Foodgrain'], dtype=object)"
      ]
     },
     "execution_count": 305,
     "metadata": {},
     "output_type": "execute_result"
    }
   ],
   "source": [
    "#printing unique crops after updation\n",
    "data['Crop'].unique()"
   ]
  },
  {
   "cell_type": "code",
   "execution_count": 306,
   "id": "42d09ac0",
   "metadata": {},
   "outputs": [
    {
     "data": {
      "text/plain": [
       "Pulses                         37942\n",
       "Bajra                          10657\n",
       "Maize                           9475\n",
       "Sesamum                         6953\n",
       "Groundnut                       6221\n",
       "Onion                           6084\n",
       "Potato                          5688\n",
       "Sugarcane                       5514\n",
       "Dry chillies                    5386\n",
       "Rice                            5353\n",
       "Rapseed & Mustard               5239\n",
       "Gram                            5070\n",
       "Vegetables                      4409\n",
       "Jowar                           4291\n",
       "Sunflower                       4187\n",
       "Sweet potato                    3695\n",
       "Linseed                         3591\n",
       "Turmeric                        3590\n",
       "Barley                          3340\n",
       "Ginger                          2900\n",
       "Garlic                          2868\n",
       "Banana                          2709\n",
       "Castor seed                     2595\n",
       "Jute                            2488\n",
       "Cotton                          2464\n",
       "Oilseeds                        2459\n",
       "Wheat                           2422\n",
       "Tobacco                         2121\n",
       "Fruits                          1974\n",
       "Sunnhemp                        1879\n",
       "Soyabean                        1774\n",
       "Tapioca                         1256\n",
       "Coconut                         1213\n",
       "Arecanut                        1199\n",
       "Spices                          1054\n",
       "Safflower                       1005\n",
       "Guar seed                        983\n",
       "Cashewnut                        860\n",
       "Pulsess & Mutter(Vegetable)      102\n",
       "Total Foodgrain                   82\n",
       "Tea                               54\n",
       "Foodgrain                          6\n",
       "Rubber                             5\n",
       "Coffee                             2\n",
       "Name: Crop, dtype: int64"
      ]
     },
     "execution_count": 306,
     "metadata": {},
     "output_type": "execute_result"
    }
   ],
   "source": [
    "#printing value counts for different crops\n",
    "data['Crop'].value_counts()"
   ]
  },
  {
   "cell_type": "code",
   "execution_count": 307,
   "id": "412e0080",
   "metadata": {},
   "outputs": [],
   "source": [
    "#dropping crops with counts is then 100 approx\n",
    "data.drop(data[data['Crop']=='Pulsess & Mutter(Vegetable)'].index,inplace=True)\n",
    "data.drop(data[data['Crop']=='Foodgrain'].index,inplace=True)\n",
    "data.drop(data[data['Crop']=='Tea'].index,inplace=True)\n",
    "data.drop(data[data['Crop']=='Rubber'].index,inplace=True)\n",
    "data.drop(data[data['Crop']=='Coffee'].index,inplace=True)\n",
    "data.drop(data[data['Crop']=='Total Foodgrain'].index,inplace=True)"
   ]
  },
  {
   "cell_type": "code",
   "execution_count": 308,
   "id": "f8916e06",
   "metadata": {},
   "outputs": [
    {
     "data": {
      "text/plain": [
       "(172908, 8)"
      ]
     },
     "execution_count": 308,
     "metadata": {},
     "output_type": "execute_result"
    }
   ],
   "source": [
    "#prinitng dimensions after updating dataset\n",
    "data.shape"
   ]
  },
  {
   "cell_type": "code",
   "execution_count": 309,
   "id": "f60a59bf",
   "metadata": {},
   "outputs": [
    {
     "data": {
      "text/plain": [
       "array(['Andaman and Nicobar Islands', 'Andhra Pradesh',\n",
       "       'Arunachal Pradesh', 'Assam', 'Bihar', 'Chandigarh',\n",
       "       'Chhattisgarh', 'Dadra and Nagar Haveli', 'Goa', 'Gujarat',\n",
       "       'Haryana', 'Himachal Pradesh', 'Jammu and Kashmir', 'Jharkhand',\n",
       "       'Karnataka', 'Kerala', 'Madhya Pradesh', 'Maharashtra', 'Manipur',\n",
       "       'Meghalaya', 'Mizoram', 'Nagaland', 'Odisha', 'Puducherry',\n",
       "       'Punjab', 'Rajasthan', 'Sikkim', 'Tamil Nadu', 'Telangana',\n",
       "       'Tripura', 'Uttar Pradesh', 'Uttarakhand', 'West Bengal'],\n",
       "      dtype=object)"
      ]
     },
     "execution_count": 309,
     "metadata": {},
     "output_type": "execute_result"
    }
   ],
   "source": [
    "#printing different values of state\n",
    "data['State'].unique()"
   ]
  },
  {
   "cell_type": "code",
   "execution_count": 310,
   "id": "df47cd7a",
   "metadata": {},
   "outputs": [],
   "source": [
    "#dividing all the states to six different zones\n",
    "North_India=['Himachal Pradesh','Punjab','Uttarakhand','Haryana','Uttar Pradesh']\n",
    "East_India=['Assam','Manipur','Meghalaya','Mizoram','Nagaland','Sikkim','Tripura','Arunachal Pradesh']\n",
    "South_India=['Andhra Pradesh','Karnataka','Kerala','Tamil Nadu','Telangana']\n",
    "West_India=['Rajasthan','Gujarat','Maharastra','Goa']\n",
    "Central_India=['Madhya Pradesh','Odisha','Chattisgarh','Jharkhand','Bihar','West Bengal']\n",
    "Union=['Andaman and Nicobar Islands','Dadra and Nagar Haveli','Puducherry','Chandigarh','Jammu and Kashmir']"
   ]
  },
  {
   "cell_type": "code",
   "execution_count": 311,
   "id": "d5eaae55",
   "metadata": {},
   "outputs": [],
   "source": [
    "#function for updating values of column zone\n",
    "def handlestate(value):\n",
    "    if value in North_India:\n",
    "        return 'North-India'\n",
    "    elif value in East_India:\n",
    "        return 'East-India'\n",
    "    elif value in West_India:\n",
    "        return 'West-India'\n",
    "    elif value in South_India:\n",
    "        return 'South-India'\n",
    "    elif value in Central_India:\n",
    "        return 'Central-India'\n",
    "    else:\n",
    "        return 'Union-Territory'"
   ]
  },
  {
   "cell_type": "code",
   "execution_count": 312,
   "id": "d627676b",
   "metadata": {},
   "outputs": [],
   "source": [
    "#updating values for column zone\n",
    "data['Zone']=data['State'].apply(lambda x: handlestate(x))"
   ]
  },
  {
   "cell_type": "code",
   "execution_count": 313,
   "id": "c35d792f",
   "metadata": {},
   "outputs": [
    {
     "data": {
      "text/html": [
       "<div>\n",
       "<style scoped>\n",
       "    .dataframe tbody tr th:only-of-type {\n",
       "        vertical-align: middle;\n",
       "    }\n",
       "\n",
       "    .dataframe tbody tr th {\n",
       "        vertical-align: top;\n",
       "    }\n",
       "\n",
       "    .dataframe thead th {\n",
       "        text-align: right;\n",
       "    }\n",
       "</style>\n",
       "<table border=\"1\" class=\"dataframe\">\n",
       "  <thead>\n",
       "    <tr style=\"text-align: right;\">\n",
       "      <th></th>\n",
       "      <th>State</th>\n",
       "      <th>District</th>\n",
       "      <th>Year</th>\n",
       "      <th>Season</th>\n",
       "      <th>Crop</th>\n",
       "      <th>Area</th>\n",
       "      <th>Production</th>\n",
       "      <th>Prod_Per_Area</th>\n",
       "      <th>Zone</th>\n",
       "    </tr>\n",
       "  </thead>\n",
       "  <tbody>\n",
       "    <tr>\n",
       "      <th>0</th>\n",
       "      <td>Andaman and Nicobar Islands</td>\n",
       "      <td>Nicobars</td>\n",
       "      <td>2000</td>\n",
       "      <td>Kharif</td>\n",
       "      <td>Arecanut</td>\n",
       "      <td>1254.0</td>\n",
       "      <td>2000.0</td>\n",
       "      <td>1.594896</td>\n",
       "      <td>Union-Territory</td>\n",
       "    </tr>\n",
       "    <tr>\n",
       "      <th>1</th>\n",
       "      <td>Andaman and Nicobar Islands</td>\n",
       "      <td>Nicobars</td>\n",
       "      <td>2000</td>\n",
       "      <td>Kharif</td>\n",
       "      <td>Pulses</td>\n",
       "      <td>2.0</td>\n",
       "      <td>1.0</td>\n",
       "      <td>0.500000</td>\n",
       "      <td>Union-Territory</td>\n",
       "    </tr>\n",
       "    <tr>\n",
       "      <th>2</th>\n",
       "      <td>Andaman and Nicobar Islands</td>\n",
       "      <td>Nicobars</td>\n",
       "      <td>2000</td>\n",
       "      <td>Kharif</td>\n",
       "      <td>Rice</td>\n",
       "      <td>102.0</td>\n",
       "      <td>321.0</td>\n",
       "      <td>3.147059</td>\n",
       "      <td>Union-Territory</td>\n",
       "    </tr>\n",
       "    <tr>\n",
       "      <th>3</th>\n",
       "      <td>Andaman and Nicobar Islands</td>\n",
       "      <td>Nicobars</td>\n",
       "      <td>2000</td>\n",
       "      <td>Whole Year</td>\n",
       "      <td>Banana</td>\n",
       "      <td>176.0</td>\n",
       "      <td>641.0</td>\n",
       "      <td>3.642045</td>\n",
       "      <td>Union-Territory</td>\n",
       "    </tr>\n",
       "    <tr>\n",
       "      <th>4</th>\n",
       "      <td>Andaman and Nicobar Islands</td>\n",
       "      <td>Nicobars</td>\n",
       "      <td>2000</td>\n",
       "      <td>Whole Year</td>\n",
       "      <td>Cashewnut</td>\n",
       "      <td>720.0</td>\n",
       "      <td>165.0</td>\n",
       "      <td>0.229167</td>\n",
       "      <td>Union-Territory</td>\n",
       "    </tr>\n",
       "    <tr>\n",
       "      <th>...</th>\n",
       "      <td>...</td>\n",
       "      <td>...</td>\n",
       "      <td>...</td>\n",
       "      <td>...</td>\n",
       "      <td>...</td>\n",
       "      <td>...</td>\n",
       "      <td>...</td>\n",
       "      <td>...</td>\n",
       "      <td>...</td>\n",
       "    </tr>\n",
       "    <tr>\n",
       "      <th>246085</th>\n",
       "      <td>West Bengal</td>\n",
       "      <td>Purulia</td>\n",
       "      <td>2014</td>\n",
       "      <td>Kharif</td>\n",
       "      <td>Maize</td>\n",
       "      <td>325.0</td>\n",
       "      <td>2039.0</td>\n",
       "      <td>6.273846</td>\n",
       "      <td>Central-India</td>\n",
       "    </tr>\n",
       "    <tr>\n",
       "      <th>246086</th>\n",
       "      <td>West Bengal</td>\n",
       "      <td>Purulia</td>\n",
       "      <td>2014</td>\n",
       "      <td>Kharif</td>\n",
       "      <td>Rice</td>\n",
       "      <td>306.0</td>\n",
       "      <td>801.0</td>\n",
       "      <td>2.617647</td>\n",
       "      <td>Central-India</td>\n",
       "    </tr>\n",
       "    <tr>\n",
       "      <th>246087</th>\n",
       "      <td>West Bengal</td>\n",
       "      <td>Purulia</td>\n",
       "      <td>2014</td>\n",
       "      <td>Kharif</td>\n",
       "      <td>Sesamum</td>\n",
       "      <td>627.0</td>\n",
       "      <td>463.0</td>\n",
       "      <td>0.738437</td>\n",
       "      <td>Central-India</td>\n",
       "    </tr>\n",
       "    <tr>\n",
       "      <th>246088</th>\n",
       "      <td>West Bengal</td>\n",
       "      <td>Purulia</td>\n",
       "      <td>2014</td>\n",
       "      <td>Whole Year</td>\n",
       "      <td>Sugarcane</td>\n",
       "      <td>324.0</td>\n",
       "      <td>16250.0</td>\n",
       "      <td>50.154321</td>\n",
       "      <td>Central-India</td>\n",
       "    </tr>\n",
       "    <tr>\n",
       "      <th>246090</th>\n",
       "      <td>West Bengal</td>\n",
       "      <td>Purulia</td>\n",
       "      <td>2014</td>\n",
       "      <td>Rabi</td>\n",
       "      <td>Sesamum</td>\n",
       "      <td>175.0</td>\n",
       "      <td>88.0</td>\n",
       "      <td>0.502857</td>\n",
       "      <td>Central-India</td>\n",
       "    </tr>\n",
       "  </tbody>\n",
       "</table>\n",
       "<p>172908 rows × 9 columns</p>\n",
       "</div>"
      ],
      "text/plain": [
       "                              State  District  Year      Season       Crop  \\\n",
       "0       Andaman and Nicobar Islands  Nicobars  2000      Kharif   Arecanut   \n",
       "1       Andaman and Nicobar Islands  Nicobars  2000      Kharif     Pulses   \n",
       "2       Andaman and Nicobar Islands  Nicobars  2000      Kharif       Rice   \n",
       "3       Andaman and Nicobar Islands  Nicobars  2000  Whole Year     Banana   \n",
       "4       Andaman and Nicobar Islands  Nicobars  2000  Whole Year  Cashewnut   \n",
       "...                             ...       ...   ...         ...        ...   \n",
       "246085                  West Bengal   Purulia  2014      Kharif      Maize   \n",
       "246086                  West Bengal   Purulia  2014      Kharif       Rice   \n",
       "246087                  West Bengal   Purulia  2014      Kharif    Sesamum   \n",
       "246088                  West Bengal   Purulia  2014  Whole Year  Sugarcane   \n",
       "246090                  West Bengal   Purulia  2014        Rabi    Sesamum   \n",
       "\n",
       "          Area  Production  Prod_Per_Area             Zone  \n",
       "0       1254.0      2000.0       1.594896  Union-Territory  \n",
       "1          2.0         1.0       0.500000  Union-Territory  \n",
       "2        102.0       321.0       3.147059  Union-Territory  \n",
       "3        176.0       641.0       3.642045  Union-Territory  \n",
       "4        720.0       165.0       0.229167  Union-Territory  \n",
       "...        ...         ...            ...              ...  \n",
       "246085   325.0      2039.0       6.273846    Central-India  \n",
       "246086   306.0       801.0       2.617647    Central-India  \n",
       "246087   627.0       463.0       0.738437    Central-India  \n",
       "246088   324.0     16250.0      50.154321    Central-India  \n",
       "246090   175.0        88.0       0.502857    Central-India  \n",
       "\n",
       "[172908 rows x 9 columns]"
      ]
     },
     "execution_count": 313,
     "metadata": {},
     "output_type": "execute_result"
    }
   ],
   "source": [
    "data"
   ]
  },
  {
   "cell_type": "code",
   "execution_count": 314,
   "id": "957bea8a",
   "metadata": {},
   "outputs": [
    {
     "data": {
      "text/plain": [
       "Central-India      46681\n",
       "South-India        37348\n",
       "North-India        34009\n",
       "East-India         23293\n",
       "Union-Territory    18902\n",
       "West-India         12675\n",
       "Name: Zone, dtype: int64"
      ]
     },
     "execution_count": 314,
     "metadata": {},
     "output_type": "execute_result"
    }
   ],
   "source": [
    "#printing value counts of different zones\n",
    "data['Zone'].value_counts()"
   ]
  },
  {
   "cell_type": "code",
   "execution_count": 315,
   "id": "445afac1",
   "metadata": {},
   "outputs": [
    {
     "data": {
      "text/plain": [
       "2003    13042\n",
       "2002    12722\n",
       "2007    12118\n",
       "2008    11915\n",
       "2011    11638\n",
       "2006    11602\n",
       "2009    11533\n",
       "2013    11516\n",
       "2004    11476\n",
       "2010    11458\n",
       "2005    11217\n",
       "2012    11170\n",
       "2000    10995\n",
       "2001    10801\n",
       "2014     9209\n",
       "2015      496\n",
       "Name: Year, dtype: int64"
      ]
     },
     "execution_count": 315,
     "metadata": {},
     "output_type": "execute_result"
    }
   ],
   "source": [
    "#printing value counts for different years\n",
    "data['Year'].value_counts()"
   ]
  },
  {
   "cell_type": "code",
   "execution_count": 316,
   "id": "58273e25",
   "metadata": {},
   "outputs": [],
   "source": [
    "#dropping rows for year 2015 cause we dont have enough information as compared to other years\n",
    "data.drop(data[data['Year']==2015].index,inplace=True)"
   ]
  },
  {
   "cell_type": "code",
   "execution_count": 317,
   "id": "99169543",
   "metadata": {},
   "outputs": [
    {
     "data": {
      "text/plain": [
       "(172412, 9)"
      ]
     },
     "execution_count": 317,
     "metadata": {},
     "output_type": "execute_result"
    }
   ],
   "source": [
    "#printing new dimensions of data\n",
    "data.shape"
   ]
  },
  {
   "cell_type": "code",
   "execution_count": 318,
   "id": "4f57218d",
   "metadata": {
    "scrolled": false
   },
   "outputs": [
    {
     "data": {
      "text/html": [
       "<div>\n",
       "<style scoped>\n",
       "    .dataframe tbody tr th:only-of-type {\n",
       "        vertical-align: middle;\n",
       "    }\n",
       "\n",
       "    .dataframe tbody tr th {\n",
       "        vertical-align: top;\n",
       "    }\n",
       "\n",
       "    .dataframe thead th {\n",
       "        text-align: right;\n",
       "    }\n",
       "</style>\n",
       "<table border=\"1\" class=\"dataframe\">\n",
       "  <thead>\n",
       "    <tr style=\"text-align: right;\">\n",
       "      <th></th>\n",
       "      <th>Crop</th>\n",
       "      <th>Production</th>\n",
       "    </tr>\n",
       "  </thead>\n",
       "  <tbody>\n",
       "    <tr>\n",
       "      <th>0</th>\n",
       "      <td>Coconut</td>\n",
       "      <td>7844.93</td>\n",
       "    </tr>\n",
       "    <tr>\n",
       "      <th>1</th>\n",
       "      <td>Sugarcane</td>\n",
       "      <td>600.13</td>\n",
       "    </tr>\n",
       "    <tr>\n",
       "      <th>2</th>\n",
       "      <td>Potato</td>\n",
       "      <td>135.06</td>\n",
       "    </tr>\n",
       "    <tr>\n",
       "      <th>3</th>\n",
       "      <td>Banana</td>\n",
       "      <td>113.94</td>\n",
       "    </tr>\n",
       "    <tr>\n",
       "      <th>4</th>\n",
       "      <td>Onion</td>\n",
       "      <td>44.71</td>\n",
       "    </tr>\n",
       "    <tr>\n",
       "      <th>5</th>\n",
       "      <td>Maize</td>\n",
       "      <td>43.50</td>\n",
       "    </tr>\n",
       "    <tr>\n",
       "      <th>6</th>\n",
       "      <td>Tapioca</td>\n",
       "      <td>40.27</td>\n",
       "    </tr>\n",
       "    <tr>\n",
       "      <th>7</th>\n",
       "      <td>Pulses</td>\n",
       "      <td>32.69</td>\n",
       "    </tr>\n",
       "    <tr>\n",
       "      <th>8</th>\n",
       "      <td>Rice</td>\n",
       "      <td>31.96</td>\n",
       "    </tr>\n",
       "    <tr>\n",
       "      <th>9</th>\n",
       "      <td>Jute</td>\n",
       "      <td>20.60</td>\n",
       "    </tr>\n",
       "    <tr>\n",
       "      <th>10</th>\n",
       "      <td>Fruits</td>\n",
       "      <td>15.07</td>\n",
       "    </tr>\n",
       "    <tr>\n",
       "      <th>11</th>\n",
       "      <td>Bajra</td>\n",
       "      <td>14.70</td>\n",
       "    </tr>\n",
       "    <tr>\n",
       "      <th>12</th>\n",
       "      <td>Groundnut</td>\n",
       "      <td>13.88</td>\n",
       "    </tr>\n",
       "    <tr>\n",
       "      <th>13</th>\n",
       "      <td>Barley</td>\n",
       "      <td>11.47</td>\n",
       "    </tr>\n",
       "    <tr>\n",
       "      <th>14</th>\n",
       "      <td>Jowar</td>\n",
       "      <td>9.62</td>\n",
       "    </tr>\n",
       "    <tr>\n",
       "      <th>15</th>\n",
       "      <td>Rapseed &amp; Mustard</td>\n",
       "      <td>8.85</td>\n",
       "    </tr>\n",
       "    <tr>\n",
       "      <th>16</th>\n",
       "      <td>Ginger</td>\n",
       "      <td>7.94</td>\n",
       "    </tr>\n",
       "    <tr>\n",
       "      <th>17</th>\n",
       "      <td>Vegetables</td>\n",
       "      <td>7.90</td>\n",
       "    </tr>\n",
       "    <tr>\n",
       "      <th>18</th>\n",
       "      <td>Cotton</td>\n",
       "      <td>7.49</td>\n",
       "    </tr>\n",
       "    <tr>\n",
       "      <th>19</th>\n",
       "      <td>Dry chillies</td>\n",
       "      <td>7.31</td>\n",
       "    </tr>\n",
       "    <tr>\n",
       "      <th>20</th>\n",
       "      <td>Wheat</td>\n",
       "      <td>7.31</td>\n",
       "    </tr>\n",
       "    <tr>\n",
       "      <th>21</th>\n",
       "      <td>Turmeric</td>\n",
       "      <td>6.94</td>\n",
       "    </tr>\n",
       "    <tr>\n",
       "      <th>22</th>\n",
       "      <td>Garlic</td>\n",
       "      <td>6.93</td>\n",
       "    </tr>\n",
       "    <tr>\n",
       "      <th>23</th>\n",
       "      <td>Sweet potato</td>\n",
       "      <td>6.92</td>\n",
       "    </tr>\n",
       "    <tr>\n",
       "      <th>24</th>\n",
       "      <td>Gram</td>\n",
       "      <td>6.91</td>\n",
       "    </tr>\n",
       "    <tr>\n",
       "      <th>25</th>\n",
       "      <td>Arecanut</td>\n",
       "      <td>3.82</td>\n",
       "    </tr>\n",
       "    <tr>\n",
       "      <th>26</th>\n",
       "      <td>Sesamum</td>\n",
       "      <td>3.47</td>\n",
       "    </tr>\n",
       "    <tr>\n",
       "      <th>27</th>\n",
       "      <td>Sunflower</td>\n",
       "      <td>3.35</td>\n",
       "    </tr>\n",
       "    <tr>\n",
       "      <th>28</th>\n",
       "      <td>Tobacco</td>\n",
       "      <td>3.23</td>\n",
       "    </tr>\n",
       "    <tr>\n",
       "      <th>29</th>\n",
       "      <td>Oilseeds</td>\n",
       "      <td>2.93</td>\n",
       "    </tr>\n",
       "    <tr>\n",
       "      <th>30</th>\n",
       "      <td>Soyabean</td>\n",
       "      <td>2.34</td>\n",
       "    </tr>\n",
       "    <tr>\n",
       "      <th>31</th>\n",
       "      <td>Castor seed</td>\n",
       "      <td>1.76</td>\n",
       "    </tr>\n",
       "    <tr>\n",
       "      <th>32</th>\n",
       "      <td>Linseed</td>\n",
       "      <td>1.61</td>\n",
       "    </tr>\n",
       "    <tr>\n",
       "      <th>33</th>\n",
       "      <td>Spices</td>\n",
       "      <td>0.95</td>\n",
       "    </tr>\n",
       "    <tr>\n",
       "      <th>34</th>\n",
       "      <td>Safflower</td>\n",
       "      <td>0.87</td>\n",
       "    </tr>\n",
       "    <tr>\n",
       "      <th>35</th>\n",
       "      <td>Guar seed</td>\n",
       "      <td>0.70</td>\n",
       "    </tr>\n",
       "    <tr>\n",
       "      <th>36</th>\n",
       "      <td>Cashewnut</td>\n",
       "      <td>0.64</td>\n",
       "    </tr>\n",
       "    <tr>\n",
       "      <th>37</th>\n",
       "      <td>Sunnhemp</td>\n",
       "      <td>0.28</td>\n",
       "    </tr>\n",
       "  </tbody>\n",
       "</table>\n",
       "</div>"
      ],
      "text/plain": [
       "                 Crop  Production\n",
       "0            Coconut      7844.93\n",
       "1           Sugarcane      600.13\n",
       "2              Potato      135.06\n",
       "3              Banana      113.94\n",
       "4               Onion       44.71\n",
       "5               Maize       43.50\n",
       "6             Tapioca       40.27\n",
       "7              Pulses       32.69\n",
       "8                Rice       31.96\n",
       "9                Jute       20.60\n",
       "10             Fruits       15.07\n",
       "11              Bajra       14.70\n",
       "12          Groundnut       13.88\n",
       "13             Barley       11.47\n",
       "14              Jowar        9.62\n",
       "15  Rapseed & Mustard        8.85\n",
       "16             Ginger        7.94\n",
       "17         Vegetables        7.90\n",
       "18             Cotton        7.49\n",
       "19       Dry chillies        7.31\n",
       "20              Wheat        7.31\n",
       "21           Turmeric        6.94\n",
       "22             Garlic        6.93\n",
       "23       Sweet potato        6.92\n",
       "24               Gram        6.91\n",
       "25           Arecanut        3.82\n",
       "26            Sesamum        3.47\n",
       "27          Sunflower        3.35\n",
       "28            Tobacco        3.23\n",
       "29           Oilseeds        2.93\n",
       "30           Soyabean        2.34\n",
       "31        Castor seed        1.76\n",
       "32            Linseed        1.61\n",
       "33             Spices        0.95\n",
       "34          Safflower        0.87\n",
       "35          Guar seed        0.70\n",
       "36          Cashewnut        0.64\n",
       "37           Sunnhemp        0.28"
      ]
     },
     "execution_count": 318,
     "metadata": {},
     "output_type": "execute_result"
    }
   ],
   "source": [
    "#calculating total production for different crops in million tonnes\n",
    "prod_val=data.groupby('Crop',as_index=False)['Production'].sum().sort_values('Production',ascending=False).reset_index(drop=True)\n",
    "prod_val['Production']=np.round(prod_val['Production']/1000000,2)\n",
    "prod_val"
   ]
  },
  {
   "cell_type": "markdown",
   "id": "16be7def",
   "metadata": {},
   "source": [
    "From above production values it is clear that coconut production is very high as compared to other crop so we will analyse coconut separately."
   ]
  },
  {
   "cell_type": "code",
   "execution_count": 319,
   "id": "f25fcd19",
   "metadata": {},
   "outputs": [
    {
     "data": {
      "text/html": [
       "<div>\n",
       "<style scoped>\n",
       "    .dataframe tbody tr th:only-of-type {\n",
       "        vertical-align: middle;\n",
       "    }\n",
       "\n",
       "    .dataframe tbody tr th {\n",
       "        vertical-align: top;\n",
       "    }\n",
       "\n",
       "    .dataframe thead th {\n",
       "        text-align: right;\n",
       "    }\n",
       "</style>\n",
       "<table border=\"1\" class=\"dataframe\">\n",
       "  <thead>\n",
       "    <tr style=\"text-align: right;\">\n",
       "      <th></th>\n",
       "      <th>Crop</th>\n",
       "      <th>Production</th>\n",
       "    </tr>\n",
       "  </thead>\n",
       "  <tbody>\n",
       "    <tr>\n",
       "      <th>1</th>\n",
       "      <td>Sugarcane</td>\n",
       "      <td>600.13</td>\n",
       "    </tr>\n",
       "    <tr>\n",
       "      <th>2</th>\n",
       "      <td>Potato</td>\n",
       "      <td>135.06</td>\n",
       "    </tr>\n",
       "    <tr>\n",
       "      <th>3</th>\n",
       "      <td>Banana</td>\n",
       "      <td>113.94</td>\n",
       "    </tr>\n",
       "    <tr>\n",
       "      <th>4</th>\n",
       "      <td>Onion</td>\n",
       "      <td>44.71</td>\n",
       "    </tr>\n",
       "    <tr>\n",
       "      <th>5</th>\n",
       "      <td>Maize</td>\n",
       "      <td>43.50</td>\n",
       "    </tr>\n",
       "    <tr>\n",
       "      <th>6</th>\n",
       "      <td>Tapioca</td>\n",
       "      <td>40.27</td>\n",
       "    </tr>\n",
       "    <tr>\n",
       "      <th>7</th>\n",
       "      <td>Pulses</td>\n",
       "      <td>32.69</td>\n",
       "    </tr>\n",
       "    <tr>\n",
       "      <th>8</th>\n",
       "      <td>Rice</td>\n",
       "      <td>31.96</td>\n",
       "    </tr>\n",
       "    <tr>\n",
       "      <th>9</th>\n",
       "      <td>Jute</td>\n",
       "      <td>20.60</td>\n",
       "    </tr>\n",
       "    <tr>\n",
       "      <th>10</th>\n",
       "      <td>Fruits</td>\n",
       "      <td>15.07</td>\n",
       "    </tr>\n",
       "    <tr>\n",
       "      <th>11</th>\n",
       "      <td>Bajra</td>\n",
       "      <td>14.70</td>\n",
       "    </tr>\n",
       "    <tr>\n",
       "      <th>12</th>\n",
       "      <td>Groundnut</td>\n",
       "      <td>13.88</td>\n",
       "    </tr>\n",
       "    <tr>\n",
       "      <th>13</th>\n",
       "      <td>Barley</td>\n",
       "      <td>11.47</td>\n",
       "    </tr>\n",
       "    <tr>\n",
       "      <th>14</th>\n",
       "      <td>Jowar</td>\n",
       "      <td>9.62</td>\n",
       "    </tr>\n",
       "    <tr>\n",
       "      <th>15</th>\n",
       "      <td>Rapseed &amp; Mustard</td>\n",
       "      <td>8.85</td>\n",
       "    </tr>\n",
       "    <tr>\n",
       "      <th>16</th>\n",
       "      <td>Ginger</td>\n",
       "      <td>7.94</td>\n",
       "    </tr>\n",
       "    <tr>\n",
       "      <th>17</th>\n",
       "      <td>Vegetables</td>\n",
       "      <td>7.90</td>\n",
       "    </tr>\n",
       "    <tr>\n",
       "      <th>18</th>\n",
       "      <td>Cotton</td>\n",
       "      <td>7.49</td>\n",
       "    </tr>\n",
       "    <tr>\n",
       "      <th>19</th>\n",
       "      <td>Dry chillies</td>\n",
       "      <td>7.31</td>\n",
       "    </tr>\n",
       "    <tr>\n",
       "      <th>20</th>\n",
       "      <td>Wheat</td>\n",
       "      <td>7.31</td>\n",
       "    </tr>\n",
       "    <tr>\n",
       "      <th>21</th>\n",
       "      <td>Turmeric</td>\n",
       "      <td>6.94</td>\n",
       "    </tr>\n",
       "    <tr>\n",
       "      <th>22</th>\n",
       "      <td>Garlic</td>\n",
       "      <td>6.93</td>\n",
       "    </tr>\n",
       "    <tr>\n",
       "      <th>23</th>\n",
       "      <td>Sweet potato</td>\n",
       "      <td>6.92</td>\n",
       "    </tr>\n",
       "    <tr>\n",
       "      <th>24</th>\n",
       "      <td>Gram</td>\n",
       "      <td>6.91</td>\n",
       "    </tr>\n",
       "    <tr>\n",
       "      <th>25</th>\n",
       "      <td>Arecanut</td>\n",
       "      <td>3.82</td>\n",
       "    </tr>\n",
       "    <tr>\n",
       "      <th>26</th>\n",
       "      <td>Sesamum</td>\n",
       "      <td>3.47</td>\n",
       "    </tr>\n",
       "    <tr>\n",
       "      <th>27</th>\n",
       "      <td>Sunflower</td>\n",
       "      <td>3.35</td>\n",
       "    </tr>\n",
       "    <tr>\n",
       "      <th>28</th>\n",
       "      <td>Tobacco</td>\n",
       "      <td>3.23</td>\n",
       "    </tr>\n",
       "    <tr>\n",
       "      <th>29</th>\n",
       "      <td>Oilseeds</td>\n",
       "      <td>2.93</td>\n",
       "    </tr>\n",
       "    <tr>\n",
       "      <th>30</th>\n",
       "      <td>Soyabean</td>\n",
       "      <td>2.34</td>\n",
       "    </tr>\n",
       "    <tr>\n",
       "      <th>31</th>\n",
       "      <td>Castor seed</td>\n",
       "      <td>1.76</td>\n",
       "    </tr>\n",
       "    <tr>\n",
       "      <th>32</th>\n",
       "      <td>Linseed</td>\n",
       "      <td>1.61</td>\n",
       "    </tr>\n",
       "    <tr>\n",
       "      <th>33</th>\n",
       "      <td>Spices</td>\n",
       "      <td>0.95</td>\n",
       "    </tr>\n",
       "    <tr>\n",
       "      <th>34</th>\n",
       "      <td>Safflower</td>\n",
       "      <td>0.87</td>\n",
       "    </tr>\n",
       "    <tr>\n",
       "      <th>35</th>\n",
       "      <td>Guar seed</td>\n",
       "      <td>0.70</td>\n",
       "    </tr>\n",
       "    <tr>\n",
       "      <th>36</th>\n",
       "      <td>Cashewnut</td>\n",
       "      <td>0.64</td>\n",
       "    </tr>\n",
       "    <tr>\n",
       "      <th>37</th>\n",
       "      <td>Sunnhemp</td>\n",
       "      <td>0.28</td>\n",
       "    </tr>\n",
       "  </tbody>\n",
       "</table>\n",
       "</div>"
      ],
      "text/plain": [
       "                 Crop  Production\n",
       "1           Sugarcane      600.13\n",
       "2              Potato      135.06\n",
       "3              Banana      113.94\n",
       "4               Onion       44.71\n",
       "5               Maize       43.50\n",
       "6             Tapioca       40.27\n",
       "7              Pulses       32.69\n",
       "8                Rice       31.96\n",
       "9                Jute       20.60\n",
       "10             Fruits       15.07\n",
       "11              Bajra       14.70\n",
       "12          Groundnut       13.88\n",
       "13             Barley       11.47\n",
       "14              Jowar        9.62\n",
       "15  Rapseed & Mustard        8.85\n",
       "16             Ginger        7.94\n",
       "17         Vegetables        7.90\n",
       "18             Cotton        7.49\n",
       "19       Dry chillies        7.31\n",
       "20              Wheat        7.31\n",
       "21           Turmeric        6.94\n",
       "22             Garlic        6.93\n",
       "23       Sweet potato        6.92\n",
       "24               Gram        6.91\n",
       "25           Arecanut        3.82\n",
       "26            Sesamum        3.47\n",
       "27          Sunflower        3.35\n",
       "28            Tobacco        3.23\n",
       "29           Oilseeds        2.93\n",
       "30           Soyabean        2.34\n",
       "31        Castor seed        1.76\n",
       "32            Linseed        1.61\n",
       "33             Spices        0.95\n",
       "34          Safflower        0.87\n",
       "35          Guar seed        0.70\n",
       "36          Cashewnut        0.64\n",
       "37           Sunnhemp        0.28"
      ]
     },
     "execution_count": 319,
     "metadata": {},
     "output_type": "execute_result"
    }
   ],
   "source": [
    "#total production per crops after removing the crops\n",
    "prod_val=prod_val.iloc[1:,:]\n",
    "prod_val"
   ]
  },
  {
   "cell_type": "code",
   "execution_count": 320,
   "id": "d9ac2686",
   "metadata": {},
   "outputs": [
    {
     "data": {
      "image/png": "[encoded data removed]",
      "text/plain": [
       "<Figure size 1008x1008 with 1 Axes>"
      ]
     },
     "metadata": {},
     "output_type": "display_data"
    }
   ],
   "source": [
    "#visualising total production for each crops using barplot\n",
    "plt.figure(figsize=(14,14))\n",
    "sns.barplot(x='Crop',y='Production',data=prod_val,palette='dark')\n",
    "plt.xticks(color='BLACK',fontsize=12,rotation=90)\n",
    "plt.yticks(color='BLACK',fontsize=12)\n",
    "plt.ylabel('PRODUCTION(M)',color='BLACK',fontsize=14)\n",
    "plt.xlabel('CROPS',color='BLACK',fontsize=14)\n",
    "plt.title('CROPS VS PRODUCTION(M)',fontsize=16)\n",
    "plt.show()"
   ]
  },
  {
   "cell_type": "code",
   "execution_count": 321,
   "id": "62aec2fe",
   "metadata": {},
   "outputs": [
    {
     "data": {
      "image/png": "[encoded data removed]",
      "text/plain": [
       "<Figure size 720x720 with 1 Axes>"
      ]
     },
     "metadata": {},
     "output_type": "display_data"
    }
   ],
   "source": [
    "#visualising total production per crop using pie chart\n",
    "plt.figure(figsize=(10,10))\n",
    "plt.pie(x=prod_val['Production'],labels=prod_val['Crop'],autopct='%0.1f%%',data=prod_val)\n",
    "plt.show()"
   ]
  },
  {
   "cell_type": "code",
   "execution_count": 322,
   "id": "d0d825b1",
   "metadata": {},
   "outputs": [],
   "source": [
    "#filtering out data for coconut only\n",
    "new_df=data[data['Crop']=='Coconut ']"
   ]
  },
  {
   "cell_type": "code",
   "execution_count": 323,
   "id": "e2563bfc",
   "metadata": {},
   "outputs": [
    {
     "data": {
      "text/html": [
       "<div>\n",
       "<style scoped>\n",
       "    .dataframe tbody tr th:only-of-type {\n",
       "        vertical-align: middle;\n",
       "    }\n",
       "\n",
       "    .dataframe tbody tr th {\n",
       "        vertical-align: top;\n",
       "    }\n",
       "\n",
       "    .dataframe thead th {\n",
       "        text-align: right;\n",
       "    }\n",
       "</style>\n",
       "<table border=\"1\" class=\"dataframe\">\n",
       "  <thead>\n",
       "    <tr style=\"text-align: right;\">\n",
       "      <th></th>\n",
       "      <th>State</th>\n",
       "      <th>District</th>\n",
       "      <th>Year</th>\n",
       "      <th>Season</th>\n",
       "      <th>Crop</th>\n",
       "      <th>Area</th>\n",
       "      <th>Production</th>\n",
       "      <th>Prod_Per_Area</th>\n",
       "      <th>Zone</th>\n",
       "    </tr>\n",
       "  </thead>\n",
       "  <tbody>\n",
       "    <tr>\n",
       "      <th>84</th>\n",
       "      <td>Andaman and Nicobar Islands</td>\n",
       "      <td>North and middle andaman</td>\n",
       "      <td>2000</td>\n",
       "      <td>Whole Year</td>\n",
       "      <td>Coconut</td>\n",
       "      <td>6992.0</td>\n",
       "      <td>23900000.0</td>\n",
       "      <td>3418.192220</td>\n",
       "      <td>Union-Territory</td>\n",
       "    </tr>\n",
       "    <tr>\n",
       "      <th>94</th>\n",
       "      <td>Andaman and Nicobar Islands</td>\n",
       "      <td>North and middle andaman</td>\n",
       "      <td>2001</td>\n",
       "      <td>Whole Year</td>\n",
       "      <td>Coconut</td>\n",
       "      <td>7015.0</td>\n",
       "      <td>25250000.0</td>\n",
       "      <td>3599.429793</td>\n",
       "      <td>Union-Territory</td>\n",
       "    </tr>\n",
       "    <tr>\n",
       "      <th>103</th>\n",
       "      <td>Andaman and Nicobar Islands</td>\n",
       "      <td>North and middle andaman</td>\n",
       "      <td>2006</td>\n",
       "      <td>Whole Year</td>\n",
       "      <td>Coconut</td>\n",
       "      <td>3575.0</td>\n",
       "      <td>15400000.0</td>\n",
       "      <td>4307.692308</td>\n",
       "      <td>Union-Territory</td>\n",
       "    </tr>\n",
       "    <tr>\n",
       "      <th>127</th>\n",
       "      <td>Andaman and Nicobar Islands</td>\n",
       "      <td>North and middle andaman</td>\n",
       "      <td>2010</td>\n",
       "      <td>Whole Year</td>\n",
       "      <td>Coconut</td>\n",
       "      <td>3668.0</td>\n",
       "      <td>12700000.0</td>\n",
       "      <td>3462.377317</td>\n",
       "      <td>Union-Territory</td>\n",
       "    </tr>\n",
       "    <tr>\n",
       "      <th>134</th>\n",
       "      <td>Andaman and Nicobar Islands</td>\n",
       "      <td>South andamans</td>\n",
       "      <td>2002</td>\n",
       "      <td>Whole Year</td>\n",
       "      <td>Coconut</td>\n",
       "      <td>7060.0</td>\n",
       "      <td>26830000.0</td>\n",
       "      <td>3800.283286</td>\n",
       "      <td>Union-Territory</td>\n",
       "    </tr>\n",
       "    <tr>\n",
       "      <th>...</th>\n",
       "      <td>...</td>\n",
       "      <td>...</td>\n",
       "      <td>...</td>\n",
       "      <td>...</td>\n",
       "      <td>...</td>\n",
       "      <td>...</td>\n",
       "      <td>...</td>\n",
       "      <td>...</td>\n",
       "      <td>...</td>\n",
       "    </tr>\n",
       "    <tr>\n",
       "      <th>245719</th>\n",
       "      <td>West Bengal</td>\n",
       "      <td>Purulia</td>\n",
       "      <td>2004</td>\n",
       "      <td>Whole Year</td>\n",
       "      <td>Coconut</td>\n",
       "      <td>66.0</td>\n",
       "      <td>296.1</td>\n",
       "      <td>4.486364</td>\n",
       "      <td>Central-India</td>\n",
       "    </tr>\n",
       "    <tr>\n",
       "      <th>245756</th>\n",
       "      <td>West Bengal</td>\n",
       "      <td>Purulia</td>\n",
       "      <td>2005</td>\n",
       "      <td>Whole Year</td>\n",
       "      <td>Coconut</td>\n",
       "      <td>74.0</td>\n",
       "      <td>311.0</td>\n",
       "      <td>4.202703</td>\n",
       "      <td>Central-India</td>\n",
       "    </tr>\n",
       "    <tr>\n",
       "      <th>245792</th>\n",
       "      <td>West Bengal</td>\n",
       "      <td>Purulia</td>\n",
       "      <td>2006</td>\n",
       "      <td>Whole Year</td>\n",
       "      <td>Coconut</td>\n",
       "      <td>73.0</td>\n",
       "      <td>365000.0</td>\n",
       "      <td>5000.000000</td>\n",
       "      <td>Central-India</td>\n",
       "    </tr>\n",
       "    <tr>\n",
       "      <th>245837</th>\n",
       "      <td>West Bengal</td>\n",
       "      <td>Purulia</td>\n",
       "      <td>2007</td>\n",
       "      <td>Whole Year</td>\n",
       "      <td>Coconut</td>\n",
       "      <td>58.0</td>\n",
       "      <td>898000.0</td>\n",
       "      <td>15482.758621</td>\n",
       "      <td>Central-India</td>\n",
       "    </tr>\n",
       "    <tr>\n",
       "      <th>245879</th>\n",
       "      <td>West Bengal</td>\n",
       "      <td>Purulia</td>\n",
       "      <td>2008</td>\n",
       "      <td>Whole Year</td>\n",
       "      <td>Coconut</td>\n",
       "      <td>58.0</td>\n",
       "      <td>598.0</td>\n",
       "      <td>10.310345</td>\n",
       "      <td>Central-India</td>\n",
       "    </tr>\n",
       "  </tbody>\n",
       "</table>\n",
       "<p>1213 rows × 9 columns</p>\n",
       "</div>"
      ],
      "text/plain": [
       "                              State                  District  Year  \\\n",
       "84      Andaman and Nicobar Islands  North and middle andaman  2000   \n",
       "94      Andaman and Nicobar Islands  North and middle andaman  2001   \n",
       "103     Andaman and Nicobar Islands  North and middle andaman  2006   \n",
       "127     Andaman and Nicobar Islands  North and middle andaman  2010   \n",
       "134     Andaman and Nicobar Islands            South andamans  2002   \n",
       "...                             ...                       ...   ...   \n",
       "245719                  West Bengal                   Purulia  2004   \n",
       "245756                  West Bengal                   Purulia  2005   \n",
       "245792                  West Bengal                   Purulia  2006   \n",
       "245837                  West Bengal                   Purulia  2007   \n",
       "245879                  West Bengal                   Purulia  2008   \n",
       "\n",
       "            Season      Crop    Area  Production  Prod_Per_Area  \\\n",
       "84      Whole Year  Coconut   6992.0  23900000.0    3418.192220   \n",
       "94      Whole Year  Coconut   7015.0  25250000.0    3599.429793   \n",
       "103     Whole Year  Coconut   3575.0  15400000.0    4307.692308   \n",
       "127     Whole Year  Coconut   3668.0  12700000.0    3462.377317   \n",
       "134     Whole Year  Coconut   7060.0  26830000.0    3800.283286   \n",
       "...            ...       ...     ...         ...            ...   \n",
       "245719  Whole Year  Coconut     66.0       296.1       4.486364   \n",
       "245756  Whole Year  Coconut     74.0       311.0       4.202703   \n",
       "245792  Whole Year  Coconut     73.0    365000.0    5000.000000   \n",
       "245837  Whole Year  Coconut     58.0    898000.0   15482.758621   \n",
       "245879  Whole Year  Coconut     58.0       598.0      10.310345   \n",
       "\n",
       "                   Zone  \n",
       "84      Union-Territory  \n",
       "94      Union-Territory  \n",
       "103     Union-Territory  \n",
       "127     Union-Territory  \n",
       "134     Union-Territory  \n",
       "...                 ...  \n",
       "245719    Central-India  \n",
       "245756    Central-India  \n",
       "245792    Central-India  \n",
       "245837    Central-India  \n",
       "245879    Central-India  \n",
       "\n",
       "[1213 rows x 9 columns]"
      ]
     },
     "execution_count": 323,
     "metadata": {},
     "output_type": "execute_result"
    }
   ],
   "source": [
    "#printing data of coconut\n",
    "new_df"
   ]
  },
  {
   "cell_type": "code",
   "execution_count": 324,
   "id": "a6e6e429",
   "metadata": {},
   "outputs": [
    {
     "data": {
      "text/html": [
       "<div>\n",
       "<style scoped>\n",
       "    .dataframe tbody tr th:only-of-type {\n",
       "        vertical-align: middle;\n",
       "    }\n",
       "\n",
       "    .dataframe tbody tr th {\n",
       "        vertical-align: top;\n",
       "    }\n",
       "\n",
       "    .dataframe thead th {\n",
       "        text-align: right;\n",
       "    }\n",
       "</style>\n",
       "<table border=\"1\" class=\"dataframe\">\n",
       "  <thead>\n",
       "    <tr style=\"text-align: right;\">\n",
       "      <th></th>\n",
       "      <th>State</th>\n",
       "      <th>Production</th>\n",
       "    </tr>\n",
       "  </thead>\n",
       "  <tbody>\n",
       "    <tr>\n",
       "      <th>0</th>\n",
       "      <td>Andhra Pradesh</td>\n",
       "      <td>2340.78</td>\n",
       "    </tr>\n",
       "    <tr>\n",
       "      <th>1</th>\n",
       "      <td>Tamil Nadu</td>\n",
       "      <td>2152.96</td>\n",
       "    </tr>\n",
       "    <tr>\n",
       "      <th>2</th>\n",
       "      <td>Assam</td>\n",
       "      <td>1711.55</td>\n",
       "    </tr>\n",
       "    <tr>\n",
       "      <th>3</th>\n",
       "      <td>West Bengal</td>\n",
       "      <td>774.90</td>\n",
       "    </tr>\n",
       "    <tr>\n",
       "      <th>4</th>\n",
       "      <td>Kerala</td>\n",
       "      <td>467.45</td>\n",
       "    </tr>\n",
       "    <tr>\n",
       "      <th>5</th>\n",
       "      <td>Puducherry</td>\n",
       "      <td>356.04</td>\n",
       "    </tr>\n",
       "    <tr>\n",
       "      <th>6</th>\n",
       "      <td>Andaman and Nicobar Islands</td>\n",
       "      <td>217.54</td>\n",
       "    </tr>\n",
       "    <tr>\n",
       "      <th>7</th>\n",
       "      <td>Uttar Pradesh</td>\n",
       "      <td>209.11</td>\n",
       "    </tr>\n",
       "    <tr>\n",
       "      <th>8</th>\n",
       "      <td>Goa</td>\n",
       "      <td>166.83</td>\n",
       "    </tr>\n",
       "    <tr>\n",
       "      <th>9</th>\n",
       "      <td>Telangana</td>\n",
       "      <td>133.61</td>\n",
       "    </tr>\n",
       "    <tr>\n",
       "      <th>10</th>\n",
       "      <td>Karnataka</td>\n",
       "      <td>119.00</td>\n",
       "    </tr>\n",
       "    <tr>\n",
       "      <th>11</th>\n",
       "      <td>Gujarat</td>\n",
       "      <td>67.02</td>\n",
       "    </tr>\n",
       "    <tr>\n",
       "      <th>12</th>\n",
       "      <td>Bihar</td>\n",
       "      <td>58.96</td>\n",
       "    </tr>\n",
       "    <tr>\n",
       "      <th>13</th>\n",
       "      <td>Madhya Pradesh</td>\n",
       "      <td>57.07</td>\n",
       "    </tr>\n",
       "    <tr>\n",
       "      <th>14</th>\n",
       "      <td>Maharashtra</td>\n",
       "      <td>56.86</td>\n",
       "    </tr>\n",
       "    <tr>\n",
       "      <th>15</th>\n",
       "      <td>Punjab</td>\n",
       "      <td>42.76</td>\n",
       "    </tr>\n",
       "    <tr>\n",
       "      <th>16</th>\n",
       "      <td>Haryana</td>\n",
       "      <td>41.47</td>\n",
       "    </tr>\n",
       "    <tr>\n",
       "      <th>17</th>\n",
       "      <td>Odisha</td>\n",
       "      <td>24.18</td>\n",
       "    </tr>\n",
       "    <tr>\n",
       "      <th>18</th>\n",
       "      <td>Rajasthan</td>\n",
       "      <td>17.34</td>\n",
       "    </tr>\n",
       "    <tr>\n",
       "      <th>19</th>\n",
       "      <td>Uttarakhand</td>\n",
       "      <td>17.20</td>\n",
       "    </tr>\n",
       "    <tr>\n",
       "      <th>20</th>\n",
       "      <td>Chhattisgarh</td>\n",
       "      <td>7.61</td>\n",
       "    </tr>\n",
       "    <tr>\n",
       "      <th>21</th>\n",
       "      <td>Nagaland</td>\n",
       "      <td>7.46</td>\n",
       "    </tr>\n",
       "    <tr>\n",
       "      <th>22</th>\n",
       "      <td>Meghalaya</td>\n",
       "      <td>7.35</td>\n",
       "    </tr>\n",
       "    <tr>\n",
       "      <th>23</th>\n",
       "      <td>Arunachal Pradesh</td>\n",
       "      <td>4.62</td>\n",
       "    </tr>\n",
       "    <tr>\n",
       "      <th>24</th>\n",
       "      <td>Jharkhand</td>\n",
       "      <td>3.37</td>\n",
       "    </tr>\n",
       "    <tr>\n",
       "      <th>25</th>\n",
       "      <td>Himachal Pradesh</td>\n",
       "      <td>2.57</td>\n",
       "    </tr>\n",
       "    <tr>\n",
       "      <th>26</th>\n",
       "      <td>Tripura</td>\n",
       "      <td>1.57</td>\n",
       "    </tr>\n",
       "    <tr>\n",
       "      <th>27</th>\n",
       "      <td>Manipur</td>\n",
       "      <td>1.37</td>\n",
       "    </tr>\n",
       "    <tr>\n",
       "      <th>28</th>\n",
       "      <td>Sikkim</td>\n",
       "      <td>1.19</td>\n",
       "    </tr>\n",
       "    <tr>\n",
       "      <th>29</th>\n",
       "      <td>Dadra and Nagar Haveli</td>\n",
       "      <td>1.12</td>\n",
       "    </tr>\n",
       "    <tr>\n",
       "      <th>30</th>\n",
       "      <td>Jammu and Kashmir</td>\n",
       "      <td>1.07</td>\n",
       "    </tr>\n",
       "    <tr>\n",
       "      <th>31</th>\n",
       "      <td>Mizoram</td>\n",
       "      <td>0.97</td>\n",
       "    </tr>\n",
       "    <tr>\n",
       "      <th>32</th>\n",
       "      <td>Chandigarh</td>\n",
       "      <td>0.05</td>\n",
       "    </tr>\n",
       "  </tbody>\n",
       "</table>\n",
       "</div>"
      ],
      "text/plain": [
       "                          State  Production\n",
       "0                Andhra Pradesh     2340.78\n",
       "1                    Tamil Nadu     2152.96\n",
       "2                         Assam     1711.55\n",
       "3                   West Bengal      774.90\n",
       "4                        Kerala      467.45\n",
       "5                    Puducherry      356.04\n",
       "6   Andaman and Nicobar Islands      217.54\n",
       "7                 Uttar Pradesh      209.11\n",
       "8                           Goa      166.83\n",
       "9                     Telangana      133.61\n",
       "10                    Karnataka      119.00\n",
       "11                      Gujarat       67.02\n",
       "12                        Bihar       58.96\n",
       "13               Madhya Pradesh       57.07\n",
       "14                  Maharashtra       56.86\n",
       "15                       Punjab       42.76\n",
       "16                      Haryana       41.47\n",
       "17                       Odisha       24.18\n",
       "18                    Rajasthan       17.34\n",
       "19                  Uttarakhand       17.20\n",
       "20                 Chhattisgarh        7.61\n",
       "21                     Nagaland        7.46\n",
       "22                    Meghalaya        7.35\n",
       "23            Arunachal Pradesh        4.62\n",
       "24                    Jharkhand        3.37\n",
       "25             Himachal Pradesh        2.57\n",
       "26                      Tripura        1.57\n",
       "27                      Manipur        1.37\n",
       "28                       Sikkim        1.19\n",
       "29       Dadra and Nagar Haveli        1.12\n",
       "30            Jammu and Kashmir        1.07\n",
       "31                      Mizoram        0.97\n",
       "32                   Chandigarh        0.05"
      ]
     },
     "execution_count": 324,
     "metadata": {},
     "output_type": "execute_result"
    }
   ],
   "source": [
    "#calculating total production of coconut for different states\n",
    "prod_coco_state=data.groupby('State',as_index=False)['Production'].sum().sort_values('Production',ascending=False).reset_index(drop=True)\n",
    "prod_coco_state['Production']=np.round(prod_coco_state['Production']/1000000,2)\n",
    "prod_coco_state"
   ]
  },
  {
   "cell_type": "code",
   "execution_count": 325,
   "id": "1ab8d2ec",
   "metadata": {},
   "outputs": [
    {
     "data": {
      "image/png": "[encoded data removed]",
      "text/plain": [
       "<Figure size 1008x1008 with 1 Axes>"
      ]
     },
     "metadata": {},
     "output_type": "display_data"
    }
   ],
   "source": [
    "#visualising total production for each state using barplot for coconut\n",
    "plt.figure(figsize=(14,14))\n",
    "sns.barplot(x='State',y='Production',data=prod_coco_state,palette='dark')\n",
    "plt.xticks(color='BLACK',fontsize=12,rotation=90)\n",
    "plt.yticks(color='BLACK',fontsize=12)\n",
    "plt.ylabel('PRODUCTION(M)',color='BLACK',fontsize=14)\n",
    "plt.xlabel('STATE',color='BLACK',fontsize=14)\n",
    "plt.title('COCONUT PRODUCTION(M)',fontsize=16)\n",
    "plt.show()"
   ]
  },
  {
   "cell_type": "code",
   "execution_count": 326,
   "id": "da03e302",
   "metadata": {},
   "outputs": [
    {
     "data": {
      "text/html": [
       "<div>\n",
       "<style scoped>\n",
       "    .dataframe tbody tr th:only-of-type {\n",
       "        vertical-align: middle;\n",
       "    }\n",
       "\n",
       "    .dataframe tbody tr th {\n",
       "        vertical-align: top;\n",
       "    }\n",
       "\n",
       "    .dataframe thead th {\n",
       "        text-align: right;\n",
       "    }\n",
       "</style>\n",
       "<table border=\"1\" class=\"dataframe\">\n",
       "  <thead>\n",
       "    <tr style=\"text-align: right;\">\n",
       "      <th></th>\n",
       "      <th>Year</th>\n",
       "      <th>Production</th>\n",
       "    </tr>\n",
       "  </thead>\n",
       "  <tbody>\n",
       "    <tr>\n",
       "      <th>0</th>\n",
       "      <td>2011</td>\n",
       "      <td>1450.64</td>\n",
       "    </tr>\n",
       "    <tr>\n",
       "      <th>1</th>\n",
       "      <td>2013</td>\n",
       "      <td>1110.78</td>\n",
       "    </tr>\n",
       "    <tr>\n",
       "      <th>2</th>\n",
       "      <td>2006</td>\n",
       "      <td>865.91</td>\n",
       "    </tr>\n",
       "    <tr>\n",
       "      <th>3</th>\n",
       "      <td>2007</td>\n",
       "      <td>610.75</td>\n",
       "    </tr>\n",
       "    <tr>\n",
       "      <th>4</th>\n",
       "      <td>2004</td>\n",
       "      <td>577.81</td>\n",
       "    </tr>\n",
       "    <tr>\n",
       "      <th>5</th>\n",
       "      <td>2009</td>\n",
       "      <td>538.77</td>\n",
       "    </tr>\n",
       "    <tr>\n",
       "      <th>6</th>\n",
       "      <td>2008</td>\n",
       "      <td>537.21</td>\n",
       "    </tr>\n",
       "    <tr>\n",
       "      <th>7</th>\n",
       "      <td>2003</td>\n",
       "      <td>499.88</td>\n",
       "    </tr>\n",
       "    <tr>\n",
       "      <th>8</th>\n",
       "      <td>2002</td>\n",
       "      <td>482.59</td>\n",
       "    </tr>\n",
       "    <tr>\n",
       "      <th>9</th>\n",
       "      <td>2000</td>\n",
       "      <td>463.58</td>\n",
       "    </tr>\n",
       "    <tr>\n",
       "      <th>10</th>\n",
       "      <td>2001</td>\n",
       "      <td>445.63</td>\n",
       "    </tr>\n",
       "    <tr>\n",
       "      <th>11</th>\n",
       "      <td>2014</td>\n",
       "      <td>410.77</td>\n",
       "    </tr>\n",
       "    <tr>\n",
       "      <th>12</th>\n",
       "      <td>2012</td>\n",
       "      <td>377.95</td>\n",
       "    </tr>\n",
       "    <tr>\n",
       "      <th>13</th>\n",
       "      <td>2010</td>\n",
       "      <td>365.48</td>\n",
       "    </tr>\n",
       "    <tr>\n",
       "      <th>14</th>\n",
       "      <td>2005</td>\n",
       "      <td>335.21</td>\n",
       "    </tr>\n",
       "  </tbody>\n",
       "</table>\n",
       "</div>"
      ],
      "text/plain": [
       "    Year  Production\n",
       "0   2011     1450.64\n",
       "1   2013     1110.78\n",
       "2   2006      865.91\n",
       "3   2007      610.75\n",
       "4   2004      577.81\n",
       "5   2009      538.77\n",
       "6   2008      537.21\n",
       "7   2003      499.88\n",
       "8   2002      482.59\n",
       "9   2000      463.58\n",
       "10  2001      445.63\n",
       "11  2014      410.77\n",
       "12  2012      377.95\n",
       "13  2010      365.48\n",
       "14  2005      335.21"
      ]
     },
     "execution_count": 326,
     "metadata": {},
     "output_type": "execute_result"
    }
   ],
   "source": [
    "#calculating production for different year of coconut\n",
    "prod_coco_year=data.groupby('Year',as_index=False)['Production'].sum().sort_values('Production',ascending=False).reset_index(drop=True)\n",
    "prod_coco_year['Production']=np.round(prod_coco_year['Production']/1000000,2)\n",
    "prod_coco_year"
   ]
  },
  {
   "cell_type": "code",
   "execution_count": 327,
   "id": "7d894565",
   "metadata": {},
   "outputs": [
    {
     "data": {
      "image/png": "[encoded data removed]",
      "text/plain": [
       "<Figure size 1008x1008 with 1 Axes>"
      ]
     },
     "metadata": {},
     "output_type": "display_data"
    }
   ],
   "source": [
    "#visualising total production for each year using barplot of coconut\n",
    "plt.figure(figsize=(14,14))\n",
    "sns.lineplot(x='Year',y='Production',data=prod_coco_year,color='Red',linewidth=2)\n",
    "plt.xticks(color='BLACK',fontsize=12,rotation=45)\n",
    "plt.yticks(color='BLACK',fontsize=12)\n",
    "plt.ylabel('PRODUCTION(M)',color='BLACK',fontsize=14)\n",
    "plt.xlabel('YEAR',color='BLACK',fontsize=14)\n",
    "plt.title('COCONUT PRODUCTION(M)',fontsize=16)\n",
    "plt.show()"
   ]
  },
  {
   "cell_type": "code",
   "execution_count": 328,
   "id": "865b5647",
   "metadata": {},
   "outputs": [
    {
     "data": {
      "text/html": [
       "<div>\n",
       "<style scoped>\n",
       "    .dataframe tbody tr th:only-of-type {\n",
       "        vertical-align: middle;\n",
       "    }\n",
       "\n",
       "    .dataframe tbody tr th {\n",
       "        vertical-align: top;\n",
       "    }\n",
       "\n",
       "    .dataframe thead th {\n",
       "        text-align: right;\n",
       "    }\n",
       "</style>\n",
       "<table border=\"1\" class=\"dataframe\">\n",
       "  <thead>\n",
       "    <tr style=\"text-align: right;\">\n",
       "      <th></th>\n",
       "      <th>Season</th>\n",
       "      <th>Production</th>\n",
       "    </tr>\n",
       "  </thead>\n",
       "  <tbody>\n",
       "    <tr>\n",
       "      <th>0</th>\n",
       "      <td>Whole Year</td>\n",
       "      <td>8628.84</td>\n",
       "    </tr>\n",
       "    <tr>\n",
       "      <th>1</th>\n",
       "      <td>Kharif</td>\n",
       "      <td>275.57</td>\n",
       "    </tr>\n",
       "    <tr>\n",
       "      <th>2</th>\n",
       "      <td>Rabi</td>\n",
       "      <td>168.55</td>\n",
       "    </tr>\n",
       "  </tbody>\n",
       "</table>\n",
       "</div>"
      ],
      "text/plain": [
       "       Season  Production\n",
       "0  Whole Year     8628.84\n",
       "1      Kharif      275.57\n",
       "2        Rabi      168.55"
      ]
     },
     "execution_count": 328,
     "metadata": {},
     "output_type": "execute_result"
    }
   ],
   "source": [
    "#calculating total production for different season for coconut\n",
    "prod_coco_season=data.groupby('Season',as_index=False)['Production'].sum().sort_values('Production',ascending=False).reset_index(drop=True)\n",
    "prod_coco_season['Production']=np.round(prod_coco_season['Production']/1000000,2)\n",
    "prod_coco_season"
   ]
  },
  {
   "cell_type": "code",
   "execution_count": 329,
   "id": "d10f5273",
   "metadata": {},
   "outputs": [
    {
     "data": {
      "image/png": "[encoded data removed]",
      "text/plain": [
       "<Figure size 864x864 with 1 Axes>"
      ]
     },
     "metadata": {},
     "output_type": "display_data"
    }
   ],
   "source": [
    "#visualising total production for each season using barplot of coconut\n",
    "plt.figure(figsize=(12,12))\n",
    "sns.barplot(x='Season',y='Production',data=prod_coco_season,palette='dark')\n",
    "plt.xticks(color='BLACK',fontsize=12,rotation=45)\n",
    "plt.yticks(color='BLACK',fontsize=12)\n",
    "plt.ylabel('PRODUCTION(M)',color='BLACK',fontsize=14)\n",
    "plt.xlabel('SEASON',color='BLACK',fontsize=14)\n",
    "plt.title('COCONUT PRODUCTION(M)',fontsize=16)\n",
    "plt.show()"
   ]
  },
  {
   "cell_type": "code",
   "execution_count": 330,
   "id": "038031aa",
   "metadata": {},
   "outputs": [
    {
     "data": {
      "text/html": [
       "<div>\n",
       "<style scoped>\n",
       "    .dataframe tbody tr th:only-of-type {\n",
       "        vertical-align: middle;\n",
       "    }\n",
       "\n",
       "    .dataframe tbody tr th {\n",
       "        vertical-align: top;\n",
       "    }\n",
       "\n",
       "    .dataframe thead th {\n",
       "        text-align: right;\n",
       "    }\n",
       "</style>\n",
       "<table border=\"1\" class=\"dataframe\">\n",
       "  <thead>\n",
       "    <tr style=\"text-align: right;\">\n",
       "      <th></th>\n",
       "      <th>Zone</th>\n",
       "      <th>Production</th>\n",
       "    </tr>\n",
       "  </thead>\n",
       "  <tbody>\n",
       "    <tr>\n",
       "      <th>0</th>\n",
       "      <td>South-India</td>\n",
       "      <td>5213.81</td>\n",
       "    </tr>\n",
       "    <tr>\n",
       "      <th>1</th>\n",
       "      <td>East-India</td>\n",
       "      <td>1736.06</td>\n",
       "    </tr>\n",
       "    <tr>\n",
       "      <th>2</th>\n",
       "      <td>Central-India</td>\n",
       "      <td>918.49</td>\n",
       "    </tr>\n",
       "    <tr>\n",
       "      <th>3</th>\n",
       "      <td>Union-Territory</td>\n",
       "      <td>640.30</td>\n",
       "    </tr>\n",
       "    <tr>\n",
       "      <th>4</th>\n",
       "      <td>North-India</td>\n",
       "      <td>313.11</td>\n",
       "    </tr>\n",
       "    <tr>\n",
       "      <th>5</th>\n",
       "      <td>West-India</td>\n",
       "      <td>251.19</td>\n",
       "    </tr>\n",
       "  </tbody>\n",
       "</table>\n",
       "</div>"
      ],
      "text/plain": [
       "              Zone  Production\n",
       "0      South-India     5213.81\n",
       "1       East-India     1736.06\n",
       "2    Central-India      918.49\n",
       "3  Union-Territory      640.30\n",
       "4      North-India      313.11\n",
       "5       West-India      251.19"
      ]
     },
     "execution_count": 330,
     "metadata": {},
     "output_type": "execute_result"
    }
   ],
   "source": [
    "#calculating total production of coconut for different zones \n",
    "prod_coco_zone=data.groupby('Zone',as_index=False)['Production'].sum().sort_values('Production',ascending=False).reset_index(drop=True)\n",
    "prod_coco_zone['Production']=np.round(prod_coco_zone['Production']/1000000,2)\n",
    "prod_coco_zone"
   ]
  },
  {
   "cell_type": "code",
   "execution_count": 331,
   "id": "60051de5",
   "metadata": {},
   "outputs": [
    {
     "data": {
      "image/png": "[encoded data removed]",
      "text/plain": [
       "<Figure size 864x864 with 1 Axes>"
      ]
     },
     "metadata": {},
     "output_type": "display_data"
    }
   ],
   "source": [
    "#visualising total production for each zone using barplot for coconut\n",
    "plt.figure(figsize=(12,12))\n",
    "sns.barplot(x='Zone',y='Production',data=prod_coco_zone,palette='dark')\n",
    "plt.xticks(color='BLACK',fontsize=12,rotation=45)\n",
    "plt.yticks(color='BLACK',fontsize=12)\n",
    "plt.ylabel('PRODUCTION(M)',color='BLACK',fontsize=14)\n",
    "plt.xlabel('ZONE',color='BLACK',fontsize=14)\n",
    "plt.title('COCONUT PRODUCTION(M)',fontsize=16)\n",
    "plt.show()"
   ]
  },
  {
   "cell_type": "code",
   "execution_count": 332,
   "id": "edcc5e8f",
   "metadata": {},
   "outputs": [
    {
     "data": {
      "text/plain": [
       "{'Pulses': 54.71,\n",
       " 'Maize': 18.82,\n",
       " 'Rice': 17.47,\n",
       " 'Bajra': 14.4,\n",
       " 'Rapseed & Mustard': 10.7,\n",
       " 'Groundnut': 10.36,\n",
       " 'Sesamum': 9.12,\n",
       " 'Sugarcane': 9.07,\n",
       " 'Jowar': 9.0,\n",
       " 'Potato': 8.89,\n",
       " 'Gram': 8.02,\n",
       " 'Barley': 5.65,\n",
       " 'Wheat': 4.77,\n",
       " 'Dry chillies': 4.59,\n",
       " 'Sunflower': 4.23,\n",
       " 'Banana': 4.1,\n",
       " 'Cotton': 4.08,\n",
       " 'Linseed': 3.66,\n",
       " 'Onion': 3.62,\n",
       " 'Oilseeds': 3.14,\n",
       " 'Coconut ': 2.34,\n",
       " 'Vegetables': 2.32,\n",
       " 'Arecanut': 2.24,\n",
       " 'Soyabean': 2.15,\n",
       " 'Jute': 2.11,\n",
       " 'Castor seed': 1.8,\n",
       " 'Fruits': 1.8,\n",
       " 'Spices': 1.64,\n",
       " 'Turmeric': 1.63,\n",
       " 'Garlic': 1.52,\n",
       " 'Safflower': 1.46,\n",
       " 'Tobacco': 1.36,\n",
       " 'Tapioca': 1.28,\n",
       " 'Cashewnut': 1.27,\n",
       " 'Ginger': 1.07,\n",
       " 'Guar seed': 1.05,\n",
       " 'Sweet potato': 0.82,\n",
       " 'Sunnhemp': 0.21}"
      ]
     },
     "execution_count": 332,
     "metadata": {},
     "output_type": "execute_result"
    }
   ],
   "source": [
    "#calculating total area for cultivation of different crops in hectares\n",
    "area_val=data.groupby('Crop')['Area'].sum().sort_values(ascending=False).to_dict()\n",
    "for keys,value in area_val.items():\n",
    "    area_val[keys]=np.round(value/1000000.0,2)\n",
    "area_val"
   ]
  },
  {
   "cell_type": "code",
   "execution_count": 333,
   "id": "c209bc2d",
   "metadata": {},
   "outputs": [
    {
     "data": {
      "image/png": "[encoded data removed]",
      "text/plain": [
       "<Figure size 720x720 with 1 Axes>"
      ]
     },
     "metadata": {},
     "output_type": "display_data"
    }
   ],
   "source": [
    "#visualising total area per crop for cultivation using pie chart\n",
    "plt.figure(figsize=(10,10))\n",
    "plt.pie(x=area_val.values(),labels=area_val.keys(),autopct='%0.1f%%')\n",
    "plt.show()"
   ]
  },
  {
   "cell_type": "code",
   "execution_count": 334,
   "id": "8832e1af",
   "metadata": {},
   "outputs": [
    {
     "data": {
      "image/png": "[encoded data removed]",
      "text/plain": [
       "<Figure size 1008x1008 with 1 Axes>"
      ]
     },
     "metadata": {},
     "output_type": "display_data"
    }
   ],
   "source": [
    "#visualising total area per crops using barplot\n",
    "sns.set_style('darkgrid')\n",
    "plt.figure(figsize=(14,14))\n",
    "plt.bar(x=area_val.keys(),height=area_val.values(),data=area_val,color='Green')\n",
    "plt.ylim(0.21,54.71+6)\n",
    "plt.xticks(rotation=90,color='Black',fontsize=10)\n",
    "plt.xlabel('CROPS',color='Black',fontsize=12)\n",
    "plt.ylabel('AREA(MH)',color='Black',fontsize=12)\n",
    "plt.title('CROPS AND AREA(MH)',color='Black',fontsize=14)\n",
    "plt.show()"
   ]
  },
  {
   "cell_type": "code",
   "execution_count": 335,
   "id": "9bb86841",
   "metadata": {},
   "outputs": [],
   "source": [
    "#calcualting correlation values between quantitative variables\n",
    "cor=data.iloc[:,[2,5,6]].corr()"
   ]
  },
  {
   "cell_type": "code",
   "execution_count": 336,
   "id": "0ff718a2",
   "metadata": {},
   "outputs": [
    {
     "data": {
      "image/png": "[encoded data removed]",
      "text/plain": [
       "<Figure size 720x720 with 2 Axes>"
      ]
     },
     "metadata": {},
     "output_type": "display_data"
    }
   ],
   "source": [
    "#visualising correlation values using heatmap\n",
    "plt.figure(figsize=(10,10))\n",
    "sns.heatmap(cor,annot=True,linewidth=0.5,cmap='crest')\n",
    "plt.xticks(color='BLACK',fontsize=12)\n",
    "plt.yticks(color='BLACK',fontsize=12)\n",
    "plt.show()"
   ]
  },
  {
   "cell_type": "code",
   "execution_count": 337,
   "id": "c3efa5f9",
   "metadata": {},
   "outputs": [],
   "source": [
    "#saving the dataset to csv file\n",
    "data.to_csv('crop_final.csv')"
   ]
  }
 ],
 "metadata": {
  "kernelspec": {
   "display_name": "Python 3 (ipykernel)",
   "language": "python",
   "name": "python3"
  },
  "language_info": {
   "codemirror_mode": {
    "name": "ipython",
    "version": 3
   },
   "file_extension": ".py",
   "mimetype": "text/x-python",
   "name": "python",
   "nbconvert_exporter": "python",
   "pygments_lexer": "ipython3",
   "version": "3.9.12"
  }
 },
 "nbformat": 4,
 "nbformat_minor": 5
}
